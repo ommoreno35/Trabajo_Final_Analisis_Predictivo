{
 "cells": [
  {
   "cell_type": "markdown",
   "id": "cd275a0c",
   "metadata": {},
   "source": [
    "## 🧠 Clasificación por niveles de conectividad\n",
    "\n",
    "Se parte de una variable continua llamada `Horas_Internet`, que representa las horas diarias de uso de internet por persona. A partir de ella, se crea una variable binaria llamada `Alta_conectividad`, que toma el valor `1` si una persona tiene **más de 3.5 horas de uso diario**, y `0` en caso contrario:"
   ]
  },
  {
   "cell_type": "markdown",
   "id": "09783aed",
   "metadata": {},
   "source": [
    "Esta línea genera una variable binaria (`0` o `1`) que puede utilizarse como variable objetivo (target) en un modelo de clasificación."
   ]
  },
  {
   "cell_type": "markdown",
   "id": "16c9902d",
   "metadata": {},
   "source": [
    "En lugar de limitarse a una clasificación binaria, es posible crear una **variable categórica ordinal** con más niveles. Por ejemplo:\n",
    "\n",
    "- `0`: Baja conectividad (hasta 1 hora)\n",
    "- `1`: Media conectividad (más de 1 hasta 3.5 horas)\n",
    "- `2`: Alta conectividad (más de 3.5 horas)\n",
    "\n",
    "Este enfoque permite reflejar con mayor fidelidad los distintos niveles de acceso a internet."
   ]
  },
  {
   "cell_type": "markdown",
   "id": "4f6100a8",
   "metadata": {},
   "source": [
    "Ambos métodos son válidos. El primero entrega una variable numérica ordinal (útil para modelos), y el segundo produce una variable categórica con etiquetas descriptivas (ideal para visualización)."
   ]
  },
  {
   "cell_type": "markdown",
   "id": "3c250413",
   "metadata": {},
   "source": [
    "## 🤖 Regresión logística antes de limpieza\n",
    "\n",
    "Se entrena un modelo básico de regresión logística para predecir la variable `Alta_conectividad` usando únicamente `Edad` e `Ingreso`, sin limpieza previa."
   ]
  },
  {
   "cell_type": "markdown",
   "id": "14db9553",
   "metadata": {},
   "source": [
    "### Explicación línea por línea:\n",
    "- `dropna()` elimina filas con valores faltantes.\n",
    "- `train_test_split` divide los datos en entrenamiento y prueba (70/30).\n",
    "- `LogisticRegression` se ajusta al conjunto de entrenamiento para predecir `Alta_conectividad`.\n",
    "- `max_iter=200` asegura que el algoritmo tenga tiempo suficiente para converger.\n",
    "- `accuracy_score` mide la proporción de predicciones correctas.\n",
    "- El resultado final muestra la exactitud del modelo antes de cualquier limpieza de datos."
   ]
  },
  {
   "cell_type": "markdown",
   "id": "0bdee37c",
   "metadata": {},
   "source": [
    "## 🧼 Limpieza de datos: Imputación, Codificación y Escalado\n",
    "\n",
    "### Imputación con `SimpleImputer`\n",
    "\n",
    "La imputación se usa para reemplazar los valores faltantes (`NaN`). Con `SimpleImputer` de `sklearn.impute`, se pueden aplicar distintas estrategias:\n",
    "\n",
    "| Estrategia            | Qué hace                                            | Cuándo usarla                                      |\n",
    "|------------------------|------------------------------------------------------|----------------------------------------------------|\n",
    "| `'mean'`              | Sustituye con la media                               | Datos numéricos sin outliers                       |\n",
    "| `'median'`            | Sustituye con la mediana                             | Datos numéricos con valores extremos o asimetría   |\n",
    "| `'most_frequent'`     | Sustituye con el valor que más se repite (moda)      | Datos categóricos o discretos                      |\n",
    "| `'constant'`          | Sustituye con un valor fijo definido por el usuario  | Para identificar o normalizar nulos explícitamente |"
   ]
  },
  {
   "cell_type": "markdown",
   "id": "a0c93f0e",
   "metadata": {},
   "source": [
    "La elección de la estrategia depende del tipo de variable y la distribución de los datos. Por ejemplo, `Edad` suele tener valores atípicos, por lo tanto se imputa con la mediana. `Ingreso` se puede imputar con la media si su distribución no tiene sesgo fuerte."
   ]
  },
  {
   "cell_type": "markdown",
   "id": "95d2f85c",
   "metadata": {},
   "source": [
    "También se puede aplicar `most_frequent` o `constant`:"
   ]
  },
  {
   "cell_type": "markdown",
   "id": "4c7a9cec",
   "metadata": {},
   "source": [
    "### Codificación de variables categóricas\n",
    "\n",
    "Los algoritmos de machine learning no trabajan directamente con texto, por lo que las variables categóricas deben transformarse a formato numérico. Se utiliza `pd.get_dummies()`."
   ]
  },
  {
   "cell_type": "markdown",
   "id": "b64de8da",
   "metadata": {},
   "source": [
    "Esto genera columnas binarias (0 o 1) por cada categoría, eliminando una de ellas (`drop_first=True`) para evitar colinealidad. Es esencial que todas las variables sean numéricas antes de pasar al modelo."
   ]
  },
  {
   "cell_type": "markdown",
   "id": "7a4cf37a",
   "metadata": {},
   "source": [
    "### Escalado de variables numéricas con `MinMaxScaler`\n",
    "\n",
    "En modelos basados en distancias o coeficientes (KNN, SVM, regresión logística, redes neuronales), es crucial que las variables estén **en la misma escala**. Si no se escalan, una variable con valores grandes (como `Ingreso`) puede dominar el aprendizaje, incluso si no es más relevante.\n",
    "\n",
    "`MinMaxScaler` transforma los valores de cada variable para que estén en el rango `[0, 1]`.\n",
    "\n",
    "**Fórmula aplicada:**\n",
    "\n",
    "\\[ X_{\\text{escalado}} = \\frac{X - \\min(X)}{\\max(X) - \\min(X)} \\]"
   ]
  },
  {
   "cell_type": "markdown",
   "id": "fdc46be7",
   "metadata": {},
   "source": [
    "Esto garantiza que:\n",
    "\n",
    "- El **mínimo** valor de la columna se convierte en `0`.\n",
    "- El **máximo** valor se convierte en `1`.\n",
    "- Los demás valores se reescalan proporcionalmente dentro de ese intervalo."
   ]
  },
  {
   "cell_type": "markdown",
   "id": "fbecbe2b",
   "metadata": {},
   "source": [
    "#### Ejemplo:\n",
    "\n",
    "Si `Edad` tiene valores entre 18 y 90, y se escala con `MinMaxScaler`, entonces un valor de 54 se transforma en:\n",
    "\\[ \\frac{54 - 18}{90 - 18} = \\frac{36}{72} = 0.5 \\]"
   ]
  },
  {
   "cell_type": "markdown",
   "id": "e964dd9e",
   "metadata": {},
   "source": [
    "#### Alternativas:\n",
    "\n",
    "- `StandardScaler`: transforma los datos con media 0 y desviación estándar 1 (Z-score).\n",
    "- `RobustScaler`: usa mediana e IQR, útil para datos con outliers."
   ]
  },
  {
   "cell_type": "markdown",
   "id": "e099aaeb",
   "metadata": {},
   "source": [
    "## 🔁 Modelo después de la limpieza\n",
    "\n",
    "Una vez que se han imputado, codificado y escalado los datos, se puede entrenar el modelo nuevamente y comparar el desempeño."
   ]
  },
  {
   "cell_type": "code",
   "execution_count": 1,
   "id": "92f3ae0a",
   "metadata": {},
   "outputs": [
    {
     "ename": "NameError",
     "evalue": "name 'df_raw' is not defined",
     "output_type": "error",
     "traceback": [
      "\u001b[1;31m---------------------------------------------------------------------------\u001b[0m",
      "\u001b[1;31mNameError\u001b[0m                                 Traceback (most recent call last)",
      "Cell \u001b[1;32mIn[1], line 1\u001b[0m\n\u001b[1;32m----> 1\u001b[0m df_raw[\u001b[38;5;124m\"\u001b[39m\u001b[38;5;124mAlta_conectividad\u001b[39m\u001b[38;5;124m\"\u001b[39m] \u001b[38;5;241m=\u001b[39m (\u001b[43mdf_raw\u001b[49m[\u001b[38;5;124m\"\u001b[39m\u001b[38;5;124mHoras_Internet\u001b[39m\u001b[38;5;124m\"\u001b[39m] \u001b[38;5;241m>\u001b[39m \u001b[38;5;241m3.5\u001b[39m)\u001b[38;5;241m.\u001b[39mastype(\u001b[38;5;28mint\u001b[39m)\n",
      "\u001b[1;31mNameError\u001b[0m: name 'df_raw' is not defined"
     ]
    }
   ],
   "source": [
    "df_raw[\"Alta_conectividad\"] = (df_raw[\"Horas_Internet\"] > 3.5).astype(int)"
   ]
  },
  {
   "cell_type": "code",
   "execution_count": null,
   "id": "b24adae9",
   "metadata": {},
   "outputs": [],
   "source": [
    "def clasificar_conectividad(horas):\n",
    "    if horas <= 1:\n",
    "        return 0\n",
    "    elif horas <= 3.5:\n",
    "        return 1\n",
    "    else:\n",
    "        return 2\n",
    "\n",
    "df_raw[\"Nivel_conectividad\"] = df_raw[\"Horas_Internet\"].apply(clasificar_conectividad)"
   ]
  },
  {
   "cell_type": "code",
   "execution_count": null,
   "id": "448e9736",
   "metadata": {},
   "outputs": [],
   "source": [
    "import pandas as pd\n",
    "\n",
    "df_raw[\"Nivel_conectividad\"] = pd.cut(\n",
    "    df_raw[\"Horas_Internet\"],\n",
    "    bins=[-float(\"inf\"), 1, 3.5, float(\"inf\")],\n",
    "    labels=[\"Baja\", \"Media\", \"Alta\"]\n",
    ")"
   ]
  },
  {
   "cell_type": "code",
   "execution_count": null,
   "id": "d9365808",
   "metadata": {},
   "outputs": [],
   "source": [
    "from sklearn.model_selection import train_test_split\n",
    "from sklearn.linear_model import LogisticRegression\n",
    "from sklearn.metrics import accuracy_score\n",
    "\n",
    "df_before = df_raw[[\"Edad\", \"Ingreso\"]].dropna()\n",
    "Xb = df_before\n",
    "yb = df_raw.loc[df_before.index, \"Alta_conectividad\"]\n",
    "\n",
    "Xb_train, Xb_test, yb_train, yb_test = train_test_split(Xb, yb, test_size=0.3, random_state=42)\n",
    "model_before = LogisticRegression(max_iter=200)\n",
    "model_before.fit(Xb_train, yb_train)\n",
    "yb_pred = model_before.predict(Xb_test)\n",
    "acc_before = accuracy_score(yb_test, yb_pred)\n",
    "print(\"✅ Exactitud antes de la limpieza:\", round(acc_before, 4))"
   ]
  },
  {
   "cell_type": "code",
   "execution_count": null,
   "id": "7df0216e",
   "metadata": {},
   "outputs": [],
   "source": [
    "from sklearn.impute import SimpleImputer\n",
    "\n",
    "df_clean = df_raw.copy()\n",
    "imputer_edad = SimpleImputer(strategy='median')\n",
    "df_clean['Edad'] = imputer_edad.fit_transform(df_clean[['Edad']])\n",
    "\n",
    "imputer_ingreso = SimpleImputer(strategy='mean')\n",
    "df_clean['Ingreso'] = imputer_ingreso.fit_transform(df_clean[['Ingreso']])"
   ]
  },
  {
   "cell_type": "code",
   "execution_count": null,
   "id": "80e07b5c",
   "metadata": {},
   "outputs": [],
   "source": [
    "# Moda o constante (ejemplos)\n",
    "SimpleImputer(strategy='most_frequent')\n",
    "SimpleImputer(strategy='constant', fill_value='Desconocida')"
   ]
  },
  {
   "cell_type": "code",
   "execution_count": null,
   "id": "8f1e62d7",
   "metadata": {},
   "outputs": [],
   "source": [
    "df_clean = pd.get_dummies(df_clean, columns=['Genero', 'Nivel_Educativo', 'Ciudad'], drop_first=True)"
   ]
  },
  {
   "cell_type": "code",
   "execution_count": null,
   "id": "0307e553",
   "metadata": {},
   "outputs": [],
   "source": [
    "from sklearn.preprocessing import MinMaxScaler\n",
    "\n",
    "scaler = MinMaxScaler()\n",
    "df_clean[['Edad', 'Ingreso']] = scaler.fit_transform(df_clean[['Edad', 'Ingreso']])"
   ]
  },
  {
   "cell_type": "code",
   "execution_count": null,
   "id": "324dd7b8",
   "metadata": {},
   "outputs": [],
   "source": [
    "from sklearn.preprocessing import StandardScaler, RobustScaler\n",
    "\n",
    "scaler = StandardScaler()\n",
    "# o\n",
    "scaler = RobustScaler()\n",
    "df_clean[['Edad', 'Ingreso']] = scaler.fit_transform(df_clean[['Edad', 'Ingreso']])"
   ]
  },
  {
   "cell_type": "code",
   "execution_count": null,
   "id": "8bffdca6",
   "metadata": {},
   "outputs": [],
   "source": [
    "Xc = df_clean.drop(columns=['Alta_conectividad'])\n",
    "yc = df_clean['Alta_conectividad']\n",
    "\n",
    "Xc_train, Xc_test, yc_train, yc_test = train_test_split(Xc, yc, test_size=0.3, random_state=42)\n",
    "\n",
    "model_after = LogisticRegression(max_iter=200)\n",
    "model_after.fit(Xc_train, yc_train)\n",
    "yc_pred = model_after.predict(Xc_test)\n",
    "acc_after = accuracy_score(yc_test, yc_pred)\n",
    "print(\"✅ Exactitud después de la limpieza:\", round(acc_after, 4))"
   ]
  }
 ],
 "metadata": {
  "kernelspec": {
   "display_name": "Python 3 (ipykernel)",
   "language": "python",
   "name": "python3"
  },
  "language_info": {
   "codemirror_mode": {
    "name": "ipython",
    "version": 3
   },
   "file_extension": ".py",
   "mimetype": "text/x-python",
   "name": "python",
   "nbconvert_exporter": "python",
   "pygments_lexer": "ipython3",
   "version": "3.13.2"
  }
 },
 "nbformat": 4,
 "nbformat_minor": 5
}
