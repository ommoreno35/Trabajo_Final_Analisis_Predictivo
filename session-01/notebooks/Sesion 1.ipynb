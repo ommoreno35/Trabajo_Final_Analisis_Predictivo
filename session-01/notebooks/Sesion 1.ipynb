{
 "cells": [
  {
   "cell_type": "code",
   "execution_count": 12,
   "id": "e358599b-a3d2-4419-b6e2-5532dd24c74f",
   "metadata": {},
   "outputs": [
    {
     "name": "stdout",
     "output_type": "stream",
     "text": [
      "D:\\iCloudDrive\\analisis-predictivo-gestion-datos\\session-01\\notebooks\n"
     ]
    }
   ],
   "source": [
    "import os\n",
    "print(os.getcwd())\n"
   ]
  },
  {
   "cell_type": "markdown",
   "id": "ba04a02e",
   "metadata": {},
   "source": [
    "# Sesión 1 – Introducción al Análisis Predictivo\n",
    "### Exploración inicial de datos con Python"
   ]
  },
  {
   "cell_type": "markdown",
   "id": "85f615b4",
   "metadata": {},
   "source": [
    "En esta primera sesión trabajaremos con un conjunto de datos sintéticos para:\n",
    "- Explorar tipos de variables (numéricas y categóricas).\n",
    "- Visualizar distribuciones simples.\n",
    "- Comprender cómo el análisis descriptivo prepara el camino para la predicción.\n"
   ]
  },
  {
   "cell_type": "markdown",
   "id": "6e9d9cab",
   "metadata": {},
   "source": [
    "### Paso 1: Importar librerías"
   ]
  },
  {
   "cell_type": "code",
   "execution_count": 13,
   "id": "08fa947e",
   "metadata": {},
   "outputs": [],
   "source": [
    "import pandas as pd\n",
    "import matplotlib.pyplot as plt"
   ]
  },
  {
   "cell_type": "markdown",
   "id": "c58b89d9",
   "metadata": {},
   "source": [
    "### Paso 2: Cargar el conjunto de datos"
   ]
  },
  {
   "cell_type": "code",
   "execution_count": 14,
   "id": "8730e8e6",
   "metadata": {},
   "outputs": [
    {
     "data": {
      "text/html": [
       "<div>\n",
       "<style scoped>\n",
       "    .dataframe tbody tr th:only-of-type {\n",
       "        vertical-align: middle;\n",
       "    }\n",
       "\n",
       "    .dataframe tbody tr th {\n",
       "        vertical-align: top;\n",
       "    }\n",
       "\n",
       "    .dataframe thead th {\n",
       "        text-align: right;\n",
       "    }\n",
       "</style>\n",
       "<table border=\"1\" class=\"dataframe\">\n",
       "  <thead>\n",
       "    <tr style=\"text-align: right;\">\n",
       "      <th></th>\n",
       "      <th>ID</th>\n",
       "      <th>Nombre</th>\n",
       "      <th>Edad</th>\n",
       "      <th>Genero</th>\n",
       "      <th>Ingreso</th>\n",
       "      <th>Ciudad</th>\n",
       "      <th>Nivel_Educativo</th>\n",
       "      <th>Estado_Civil</th>\n",
       "    </tr>\n",
       "  </thead>\n",
       "  <tbody>\n",
       "    <tr>\n",
       "      <th>0</th>\n",
       "      <td>1</td>\n",
       "      <td>Ana</td>\n",
       "      <td>35.0</td>\n",
       "      <td>Masculino</td>\n",
       "      <td>4725.73</td>\n",
       "      <td>Bucaramanga</td>\n",
       "      <td>Tecnólogo</td>\n",
       "      <td>Divorciado/a</td>\n",
       "    </tr>\n",
       "    <tr>\n",
       "      <th>1</th>\n",
       "      <td>2</td>\n",
       "      <td>Luis</td>\n",
       "      <td>NaN</td>\n",
       "      <td>Masculino</td>\n",
       "      <td>3176.22</td>\n",
       "      <td>Medellín</td>\n",
       "      <td>Posgrado</td>\n",
       "      <td>Viudo/a</td>\n",
       "    </tr>\n",
       "    <tr>\n",
       "      <th>2</th>\n",
       "      <td>3</td>\n",
       "      <td>Ana</td>\n",
       "      <td>46.0</td>\n",
       "      <td>Femenino</td>\n",
       "      <td>4854.25</td>\n",
       "      <td>Pasto</td>\n",
       "      <td>Tecnólogo</td>\n",
       "      <td>Viudo/a</td>\n",
       "    </tr>\n",
       "    <tr>\n",
       "      <th>3</th>\n",
       "      <td>4</td>\n",
       "      <td>María</td>\n",
       "      <td>38.0</td>\n",
       "      <td>Masculino</td>\n",
       "      <td>3632.68</td>\n",
       "      <td>Cali</td>\n",
       "      <td>Posgrado</td>\n",
       "      <td>Unión libre</td>\n",
       "    </tr>\n",
       "    <tr>\n",
       "      <th>4</th>\n",
       "      <td>5</td>\n",
       "      <td>Jorge</td>\n",
       "      <td>29.0</td>\n",
       "      <td>Masculino</td>\n",
       "      <td>3544.89</td>\n",
       "      <td>Manizales</td>\n",
       "      <td>Secundaria</td>\n",
       "      <td>Unión libre</td>\n",
       "    </tr>\n",
       "  </tbody>\n",
       "</table>\n",
       "</div>"
      ],
      "text/plain": [
       "   ID Nombre  Edad     Genero  Ingreso       Ciudad Nivel_Educativo  \\\n",
       "0   1    Ana  35.0  Masculino  4725.73  Bucaramanga       Tecnólogo   \n",
       "1   2   Luis   NaN  Masculino  3176.22     Medellín        Posgrado   \n",
       "2   3    Ana  46.0   Femenino  4854.25        Pasto       Tecnólogo   \n",
       "3   4  María  38.0  Masculino  3632.68         Cali        Posgrado   \n",
       "4   5  Jorge  29.0  Masculino  3544.89    Manizales      Secundaria   \n",
       "\n",
       "   Estado_Civil  \n",
       "0  Divorciado/a  \n",
       "1       Viudo/a  \n",
       "2       Viudo/a  \n",
       "3   Unión libre  \n",
       "4   Unión libre  "
      ]
     },
     "execution_count": 14,
     "metadata": {},
     "output_type": "execute_result"
    }
   ],
   "source": [
    "\n",
    "df = pd.read_csv('../../datos/sesion_1.csv')\n",
    "df.head()"
   ]
  },
  {
   "cell_type": "markdown",
   "id": "a7e8ba8a",
   "metadata": {},
   "source": [
    "### Paso 3: Revisar estructura del dataset"
   ]
  },
  {
   "cell_type": "code",
   "execution_count": 15,
   "id": "a3f1fc31",
   "metadata": {},
   "outputs": [
    {
     "name": "stdout",
     "output_type": "stream",
     "text": [
      "<class 'pandas.core.frame.DataFrame'>\n",
      "RangeIndex: 100000 entries, 0 to 99999\n",
      "Data columns (total 8 columns):\n",
      " #   Column           Non-Null Count   Dtype  \n",
      "---  ------           --------------   -----  \n",
      " 0   ID               100000 non-null  int64  \n",
      " 1   Nombre           100000 non-null  object \n",
      " 2   Edad             90000 non-null   float64\n",
      " 3   Genero           100000 non-null  object \n",
      " 4   Ingreso          90000 non-null   float64\n",
      " 5   Ciudad           100000 non-null  object \n",
      " 6   Nivel_Educativo  100000 non-null  object \n",
      " 7   Estado_Civil     100000 non-null  object \n",
      "dtypes: float64(2), int64(1), object(5)\n",
      "memory usage: 6.1+ MB\n"
     ]
    }
   ],
   "source": [
    "df.info()"
   ]
  },
  {
   "cell_type": "markdown",
   "id": "df10ec3f",
   "metadata": {},
   "source": [
    "### Paso 4: Descripción estadística general"
   ]
  },
  {
   "cell_type": "code",
   "execution_count": 9,
   "id": "a2bb353d",
   "metadata": {},
   "outputs": [
    {
     "data": {
      "text/html": [
       "<div>\n",
       "<style scoped>\n",
       "    .dataframe tbody tr th:only-of-type {\n",
       "        vertical-align: middle;\n",
       "    }\n",
       "\n",
       "    .dataframe tbody tr th {\n",
       "        vertical-align: top;\n",
       "    }\n",
       "\n",
       "    .dataframe thead th {\n",
       "        text-align: right;\n",
       "    }\n",
       "</style>\n",
       "<table border=\"1\" class=\"dataframe\">\n",
       "  <thead>\n",
       "    <tr style=\"text-align: right;\">\n",
       "      <th></th>\n",
       "      <th>ID</th>\n",
       "      <th>Nombre</th>\n",
       "      <th>Edad</th>\n",
       "      <th>Genero</th>\n",
       "      <th>Ingreso</th>\n",
       "      <th>Ciudad</th>\n",
       "      <th>Nivel_Educativo</th>\n",
       "      <th>Estado_Civil</th>\n",
       "    </tr>\n",
       "  </thead>\n",
       "  <tbody>\n",
       "    <tr>\n",
       "      <th>count</th>\n",
       "      <td>100000.000000</td>\n",
       "      <td>100000</td>\n",
       "      <td>90000.000000</td>\n",
       "      <td>100000</td>\n",
       "      <td>90000.000000</td>\n",
       "      <td>100000</td>\n",
       "      <td>100000</td>\n",
       "      <td>100000</td>\n",
       "    </tr>\n",
       "    <tr>\n",
       "      <th>unique</th>\n",
       "      <td>NaN</td>\n",
       "      <td>8</td>\n",
       "      <td>NaN</td>\n",
       "      <td>2</td>\n",
       "      <td>NaN</td>\n",
       "      <td>10</td>\n",
       "      <td>6</td>\n",
       "      <td>5</td>\n",
       "    </tr>\n",
       "    <tr>\n",
       "      <th>top</th>\n",
       "      <td>NaN</td>\n",
       "      <td>María</td>\n",
       "      <td>NaN</td>\n",
       "      <td>Femenino</td>\n",
       "      <td>NaN</td>\n",
       "      <td>Barranquilla</td>\n",
       "      <td>Posgrado</td>\n",
       "      <td>Casado/a</td>\n",
       "    </tr>\n",
       "    <tr>\n",
       "      <th>freq</th>\n",
       "      <td>NaN</td>\n",
       "      <td>12638</td>\n",
       "      <td>NaN</td>\n",
       "      <td>50181</td>\n",
       "      <td>NaN</td>\n",
       "      <td>10153</td>\n",
       "      <td>16797</td>\n",
       "      <td>20099</td>\n",
       "    </tr>\n",
       "    <tr>\n",
       "      <th>mean</th>\n",
       "      <td>50000.500000</td>\n",
       "      <td>NaN</td>\n",
       "      <td>34.528022</td>\n",
       "      <td>NaN</td>\n",
       "      <td>4000.388927</td>\n",
       "      <td>NaN</td>\n",
       "      <td>NaN</td>\n",
       "      <td>NaN</td>\n",
       "    </tr>\n",
       "    <tr>\n",
       "      <th>std</th>\n",
       "      <td>28867.657797</td>\n",
       "      <td>NaN</td>\n",
       "      <td>9.987865</td>\n",
       "      <td>NaN</td>\n",
       "      <td>798.873433</td>\n",
       "      <td>NaN</td>\n",
       "      <td>NaN</td>\n",
       "      <td>NaN</td>\n",
       "    </tr>\n",
       "    <tr>\n",
       "      <th>min</th>\n",
       "      <td>1.000000</td>\n",
       "      <td>NaN</td>\n",
       "      <td>-3.000000</td>\n",
       "      <td>NaN</td>\n",
       "      <td>752.640000</td>\n",
       "      <td>NaN</td>\n",
       "      <td>NaN</td>\n",
       "      <td>NaN</td>\n",
       "    </tr>\n",
       "    <tr>\n",
       "      <th>25%</th>\n",
       "      <td>25000.750000</td>\n",
       "      <td>NaN</td>\n",
       "      <td>28.000000</td>\n",
       "      <td>NaN</td>\n",
       "      <td>3462.080000</td>\n",
       "      <td>NaN</td>\n",
       "      <td>NaN</td>\n",
       "      <td>NaN</td>\n",
       "    </tr>\n",
       "    <tr>\n",
       "      <th>50%</th>\n",
       "      <td>50000.500000</td>\n",
       "      <td>NaN</td>\n",
       "      <td>34.000000</td>\n",
       "      <td>NaN</td>\n",
       "      <td>4002.875000</td>\n",
       "      <td>NaN</td>\n",
       "      <td>NaN</td>\n",
       "      <td>NaN</td>\n",
       "    </tr>\n",
       "    <tr>\n",
       "      <th>75%</th>\n",
       "      <td>75000.250000</td>\n",
       "      <td>NaN</td>\n",
       "      <td>41.000000</td>\n",
       "      <td>NaN</td>\n",
       "      <td>4537.935000</td>\n",
       "      <td>NaN</td>\n",
       "      <td>NaN</td>\n",
       "      <td>NaN</td>\n",
       "    </tr>\n",
       "    <tr>\n",
       "      <th>max</th>\n",
       "      <td>100000.000000</td>\n",
       "      <td>NaN</td>\n",
       "      <td>78.000000</td>\n",
       "      <td>NaN</td>\n",
       "      <td>7489.460000</td>\n",
       "      <td>NaN</td>\n",
       "      <td>NaN</td>\n",
       "      <td>NaN</td>\n",
       "    </tr>\n",
       "  </tbody>\n",
       "</table>\n",
       "</div>"
      ],
      "text/plain": [
       "                   ID  Nombre          Edad    Genero       Ingreso  \\\n",
       "count   100000.000000  100000  90000.000000    100000  90000.000000   \n",
       "unique            NaN       8           NaN         2           NaN   \n",
       "top               NaN   María           NaN  Femenino           NaN   \n",
       "freq              NaN   12638           NaN     50181           NaN   \n",
       "mean     50000.500000     NaN     34.528022       NaN   4000.388927   \n",
       "std      28867.657797     NaN      9.987865       NaN    798.873433   \n",
       "min          1.000000     NaN     -3.000000       NaN    752.640000   \n",
       "25%      25000.750000     NaN     28.000000       NaN   3462.080000   \n",
       "50%      50000.500000     NaN     34.000000       NaN   4002.875000   \n",
       "75%      75000.250000     NaN     41.000000       NaN   4537.935000   \n",
       "max     100000.000000     NaN     78.000000       NaN   7489.460000   \n",
       "\n",
       "              Ciudad Nivel_Educativo Estado_Civil  \n",
       "count         100000          100000       100000  \n",
       "unique            10               6            5  \n",
       "top     Barranquilla        Posgrado     Casado/a  \n",
       "freq           10153           16797        20099  \n",
       "mean             NaN             NaN          NaN  \n",
       "std              NaN             NaN          NaN  \n",
       "min              NaN             NaN          NaN  \n",
       "25%              NaN             NaN          NaN  \n",
       "50%              NaN             NaN          NaN  \n",
       "75%              NaN             NaN          NaN  \n",
       "max              NaN             NaN          NaN  "
      ]
     },
     "execution_count": 9,
     "metadata": {},
     "output_type": "execute_result"
    }
   ],
   "source": [
    "df.describe(include='all')"
   ]
  },
  {
   "cell_type": "markdown",
   "id": "12b05a4a",
   "metadata": {},
   "source": [
    "## Visualización exploratoria\n",
    "A continuación veremos algunas formas básicas de visualizar nuestros datos."
   ]
  },
  {
   "cell_type": "markdown",
   "id": "1ffb674c",
   "metadata": {},
   "source": [
    "### Gráfico 1: Distribución por Género"
   ]
  },
  {
   "cell_type": "code",
   "execution_count": 10,
   "id": "261dd2e5",
   "metadata": {},
   "outputs": [
    {
     "data": {
      "image/png": "[encoded data removed]",
      "text/plain": [
       "<Figure size 640x480 with 1 Axes>"
      ]
     },
     "metadata": {},
     "output_type": "display_data"
    }
   ],
   "source": [
    "df['Genero'].value_counts().plot(kind='bar', color='skyblue')\n",
    "plt.title('Distribución por Género')\n",
    "plt.xlabel('Género')\n",
    "plt.ylabel('Frecuencia')\n",
    "plt.show()"
   ]
  },
  {
   "cell_type": "markdown",
   "id": "69e9f497",
   "metadata": {},
   "source": [
    "*Interpretación: Este gráfico nos muestra cuántos casos hay por categoría de género en la base.*"
   ]
  },
  {
   "cell_type": "markdown",
   "id": "f89fc2dc",
   "metadata": {},
   "source": [
    "### Gráfico 2: Histograma de edades"
   ]
  },
  {
   "cell_type": "code",
   "execution_count": 11,
   "id": "31be71b5",
   "metadata": {},
   "outputs": [
    {
     "data": {
      "image/png": "[encoded data removed]",
      "text/plain": [
       "<Figure size 640x480 with 1 Axes>"
      ]
     },
     "metadata": {},
     "output_type": "display_data"
    }
   ],
   "source": [
    "df['Edad'].dropna().plot(kind='hist', bins=30, edgecolor='black')\n",
    "plt.title('Distribución de Edades')\n",
    "plt.xlabel('Edad')\n",
    "plt.ylabel('Frecuencia')\n",
    "plt.show()"
   ]
  },
  {
   "cell_type": "markdown",
   "id": "f0024687",
   "metadata": {},
   "source": [
    "*Interpretación: El histograma muestra la frecuencia de edades. Podemos ver la forma de la distribución y posibles sesgos.*"
   ]
  },
  {
   "cell_type": "markdown",
   "id": "56ee7529",
   "metadata": {},
   "source": [
    "### Gráfico 3: Boxplot de ingreso por género"
   ]
  },
  {
   "cell_type": "code",
   "execution_count": 7,
   "id": "e429c37c",
   "metadata": {},
   "outputs": [
    {
     "data": {
      "image/png": "[encoded data removed]",
      "text/plain": [
       "<Figure size 640x480 with 1 Axes>"
      ]
     },
     "metadata": {},
     "output_type": "display_data"
    }
   ],
   "source": [
    "df.boxplot(column='Ingreso', by='Genero')\n",
    "plt.title('Ingreso por Género')\n",
    "plt.suptitle('')\n",
    "plt.xlabel('Género')\n",
    "plt.ylabel('Ingreso mensual estimado')\n",
    "plt.show()"
   ]
  },
  {
   "cell_type": "markdown",
   "id": "c4b17847",
   "metadata": {},
   "source": [
    "*Interpretación: El boxplot permite comparar la distribución del ingreso entre grupos de género, y detectar posibles outliers.*"
   ]
  },
  {
   "cell_type": "markdown",
   "id": "196c0262",
   "metadata": {},
   "source": [
    "## 🧩 Cierre de la sesión y lo que viene\n",
    "**Conclusiones:**\n",
    "- Hoy exploramos un conjunto de datos reales e identificamos variables clave.\n",
    "- Visualizamos la distribución de género, edad e ingreso, y reflexionamos sobre su importancia.\n",
    "- Entendimos que la exploración inicial es esencial antes de aplicar modelos predictivos.\n",
    "\n",
    "**Próximamente (Sesión 2):**\n",
    "- Nos enfocaremos en la **preparación y limpieza de datos**, lo que incluye:\n",
    "  - Tratamiento de valores faltantes\n",
    "  - Codificación de variables categóricas\n",
    "  - Escalado de variables numéricas\n",
    "\n",
    "_Estas transformaciones son fundamentales para construir modelos confiables y efectivos._"
   ]
  }
 ],
 "metadata": {
  "kernelspec": {
   "display_name": "Python 3 (ipykernel)",
   "language": "python",
   "name": "python3"
  },
  "language_info": {
   "codemirror_mode": {
    "name": "ipython",
    "version": 3
   },
   "file_extension": ".py",
   "mimetype": "text/x-python",
   "name": "python",
   "nbconvert_exporter": "python",
   "pygments_lexer": "ipython3",
   "version": "3.13.2"
  }
 },
 "nbformat": 4,
 "nbformat_minor": 5
}
