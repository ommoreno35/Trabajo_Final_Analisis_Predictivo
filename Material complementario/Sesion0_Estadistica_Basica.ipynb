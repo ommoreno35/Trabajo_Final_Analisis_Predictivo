{
 "cells": [
  {
   "cell_type": "markdown",
   "id": "6b8755b6",
   "metadata": {},
   "source": [
    "# 📊 Estadística Básica para Análisis Predictivo"
   ]
  },
  {
   "cell_type": "markdown",
   "id": "4648445b",
   "metadata": {},
   "source": [
    "## 📌 Objetivo\n",
    "Explicar los conceptos fundamentales de estadística descriptiva utilizados como base para el análisis predictivo. Incluye definiciones, fórmulas y ejemplos computacionales."
   ]
  },
  {
   "cell_type": "markdown",
   "id": "12425a43",
   "metadata": {},
   "source": [
    "## 1. Media (Promedio)\n",
    "La media es la suma de todos los valores dividida entre el número de observaciones."
   ]
  },
  {
   "cell_type": "markdown",
   "id": "7b0a2827",
   "metadata": {},
   "source": [
    "**Fórmula:**\n",
    "\n",
    "$$\n",
    "\\bar{x} = \\frac{1}{n} \\sum_{i=1}^{n} x_i\n",
    "$$"
   ]
  },
  {
   "cell_type": "code",
   "execution_count": null,
   "id": "e0697109",
   "metadata": {},
   "outputs": [],
   "source": [
    "\n",
    "import numpy as np\n",
    "valores = [8, 6, 7, 5, 9]\n",
    "media = np.mean(valores)\n",
    "media\n"
   ]
  },
  {
   "cell_type": "markdown",
   "id": "822cd0a3",
   "metadata": {},
   "source": [
    "## 2. Mediana\n",
    "La mediana es el valor que divide la distribución en dos mitades iguales (cuando los datos están ordenados)."
   ]
  },
  {
   "cell_type": "code",
   "execution_count": null,
   "id": "5ae13d67",
   "metadata": {},
   "outputs": [],
   "source": [
    "np.median(valores)"
   ]
  },
  {
   "cell_type": "markdown",
   "id": "31625329",
   "metadata": {},
   "source": [
    "## 3. Moda\n",
    "La moda es el valor que más se repite en un conjunto de datos."
   ]
  },
  {
   "cell_type": "code",
   "execution_count": null,
   "id": "333658e9",
   "metadata": {},
   "outputs": [],
   "source": [
    "\n",
    "from scipy import stats\n",
    "stats.mode(valores, keepdims=True).mode[0]\n"
   ]
  },
  {
   "cell_type": "markdown",
   "id": "27f46620",
   "metadata": {},
   "source": [
    "## 4. Varianza\n",
    "La varianza mide la dispersión promedio respecto a la media."
   ]
  },
  {
   "cell_type": "markdown",
   "id": "967911e8",
   "metadata": {},
   "source": [
    "**Fórmula:**\n",
    "\n",
    "$$\n",
    "\\text{Var}(X) = \\frac{1}{n} \\sum_{i=1}^{n} (x_i - \\bar{x})^2\n",
    "$$"
   ]
  },
  {
   "cell_type": "code",
   "execution_count": null,
   "id": "8a1359db",
   "metadata": {},
   "outputs": [],
   "source": [
    "np.var(valores)"
   ]
  },
  {
   "cell_type": "markdown",
   "id": "fb9de4b7",
   "metadata": {},
   "source": [
    "## 5. Desviación estándar\n",
    "Es la raíz cuadrada de la varianza. Mide la dispersión en las mismas unidades que los datos."
   ]
  },
  {
   "cell_type": "code",
   "execution_count": null,
   "id": "2c296434",
   "metadata": {},
   "outputs": [],
   "source": [
    "np.std(valores)"
   ]
  },
  {
   "cell_type": "markdown",
   "id": "f422e32c",
   "metadata": {},
   "source": [
    "## 6. Rango intercuartílico (IQR)\n",
    "Es la diferencia entre el tercer y el primer cuartil. Representa el rango del 50% central de los datos."
   ]
  },
  {
   "cell_type": "code",
   "execution_count": null,
   "id": "55eadb28",
   "metadata": {},
   "outputs": [],
   "source": [
    "iqr = np.percentile(valores, 75) - np.percentile(valores, 25)\n",
    "iqr"
   ]
  },
  {
   "cell_type": "markdown",
   "id": "3bb0b3d1",
   "metadata": {},
   "source": [
    "## 7. Correlación de Pearson\n",
    "Mide la relación lineal entre dos variables.\n",
    "\n",
    "**Fórmula:**\n",
    "\n",
    "$$\n",
    "\\rho_{X,Y} = \\frac{\\text{Cov}(X, Y)}{\\sigma_X \\sigma_Y}\n",
    "$$"
   ]
  },
  {
   "cell_type": "code",
   "execution_count": null,
   "id": "e9db8bdc",
   "metadata": {},
   "outputs": [],
   "source": [
    "\n",
    "x = [1, 2, 3, 4, 5]\n",
    "y = [2, 4, 5, 4, 5]\n",
    "np.corrcoef(x, y)[0, 1]\n"
   ]
  },
  {
   "cell_type": "markdown",
   "id": "f7385bf0",
   "metadata": {},
   "source": [
    "## 8. Visualización básica"
   ]
  },
  {
   "cell_type": "code",
   "execution_count": null,
   "id": "abf37f05",
   "metadata": {},
   "outputs": [],
   "source": [
    "\n",
    "import matplotlib.pyplot as plt\n",
    "\n",
    "plt.hist(valores, bins=5, edgecolor='black')\n",
    "plt.title(\"Histograma de valores\")\n",
    "plt.xlabel(\"Valor\")\n",
    "plt.ylabel(\"Frecuencia\")\n",
    "plt.show()\n"
   ]
  }
 ],
 "metadata": {},
 "nbformat": 4,
 "nbformat_minor": 5
}