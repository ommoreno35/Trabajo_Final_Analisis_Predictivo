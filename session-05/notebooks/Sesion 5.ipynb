{
 "cells": [
  {
   "cell_type": "markdown",
   "id": "099708ee",
   "metadata": {},
   "source": [
    "# 🧪 Sesión 5: Regresión Logística — Diagnóstico y Corrección del Modelo\n",
    "\n",
    "Este notebook ilustra un problema común en clasificación binaria con clases desbalanceadas. Exploraremos un caso donde el modelo no predice ninguna instancia de la clase minoritaria, y luego corregiremos el modelo paso a paso."
   ]
  },
  {
   "cell_type": "markdown",
   "id": "08ad4452",
   "metadata": {},
   "source": [
    "## 📦 1. Importación de librerías y carga de datos"
   ]
  },
  {
   "cell_type": "code",
   "execution_count": 1,
   "id": "7db51771",
   "metadata": {},
   "outputs": [],
   "source": [
    "import pandas as pd\n",
    "import numpy as np\n",
    "from sklearn.linear_model import LogisticRegression\n",
    "from sklearn.model_selection import train_test_split\n",
    "from sklearn.preprocessing import MinMaxScaler\n",
    "from sklearn.metrics import classification_report, confusion_matrix, ConfusionMatrixDisplay, roc_curve, roc_auc_score\n",
    "import matplotlib.pyplot as plt\n",
    "\n",
    "df = pd.read_csv('../../datos/dataset_limpio.csv')"
   ]
  },
  {
   "cell_type": "markdown",
   "id": "f34682b1",
   "metadata": {},
   "source": [
    "## 🧾 2. Selección y preparación de datos"
   ]
  },
  {
   "cell_type": "code",
   "execution_count": 2,
   "id": "bef27660",
   "metadata": {},
   "outputs": [],
   "source": [
    "X = df.drop(columns=['ID', 'CodigoID', 'Horas_Internet', 'Alta_conectividad'])\n",
    "y = df['Alta_conectividad']\n",
    "\n",
    "X_train, X_test, y_train, y_test = train_test_split(X, y, test_size=0.3, random_state=42)\n",
    "\n",
    "X_train = pd.get_dummies(X_train, drop_first=True)\n",
    "X_test = pd.get_dummies(X_test, drop_first=True)\n",
    "X_train, X_test = X_train.align(X_test, join='left', axis=1, fill_value=0)\n",
    "\n",
    "scaler = MinMaxScaler()\n",
    "X_train = scaler.fit_transform(X_train)\n",
    "X_test = scaler.transform(X_test)"
   ]
  },
  {
   "cell_type": "markdown",
   "id": "d2f16eaf-6c5d-4a2f-9cef-9735e81d72f3",
   "metadata": {},
   "source": [
    "### 📘 Explicación del código\n",
    "\n",
    "- `X = df.drop(columns=['ID', 'CodigoID', 'Horas_Internet', 'Alta_conectividad'])`:  \n",
    "  Se eliminan del conjunto de datos aquellas columnas que no deben usarse como predictores, incluyendo identificadores y la variable objetivo.\n",
    "\n",
    "- `y = df['Alta_conectividad']`:  \n",
    "  Se define la variable objetivo que será utilizada para entrenar y evaluar el modelo.\n",
    "\n",
    "- `X_train, X_test, y_train, y_test = train_test_split(X, y, test_size=0.3, random_state=42)`:  \n",
    "  Se dividen los datos en un conjunto de entrenamiento (70%) y uno de prueba (30%) para evaluar el desempeño del modelo con datos no vistos.\n",
    "\n",
    "- `X_train = pd.get_dummies(X_train, drop_first=True)`  \n",
    "  `X_test = pd.get_dummies(X_test, drop_first=True)`:  \n",
    "  Se convierten las variables categóricas en variables numéricas binarias mediante codificación one-hot.  \n",
    "  Al usar `drop_first=True`, se elimina la primera categoría para evitar colinealidad entre variables.\n",
    "\n",
    "- `X_train, X_test = X_train.align(X_test, join='left', axis=1, fill_value=0)`:  \n",
    "  Se asegura que los conjuntos de entrenamiento y prueba tengan exactamente las mismas columnas, agregando ceros en las categorías que estén ausentes en uno de los dos conjuntos.\n",
    "\n",
    "- `scaler = MinMaxScaler()`  \n",
    "  `X_train = scaler.fit_transform(X_train)`  \n",
    "  `X_test = scaler.transform(X_test)`:  \n",
    "  Se normalizan todas las variables numéricas al rango de 0 a 1 para evitar que algunas variables dominen sobre otras en algoritmos sensibles a la escala.\n",
    "\n",
    "Finalmente, este bloque de código realiza el preprocesamiento completo necesario para entrenar un modelo. Se eliminan columnas innecesarias, se transforma la variable objetivo, se codifican variables categóricas, se garantiza la compatibilidad entre los conjuntos de datos y se escalan las variables numéricas. Todo esto asegura que el modelo pueda ser entrenado de manera efectiva y evaluado correctamente.\n"
   ]
  },
  {
   "cell_type": "markdown",
   "id": "e1278071",
   "metadata": {},
   "source": [
    "## ❌ 3. Entrenamiento sin manejo del desbalance"
   ]
  },
  {
   "cell_type": "code",
   "execution_count": 3,
   "id": "a212091f",
   "metadata": {},
   "outputs": [],
   "source": [
    "model = LogisticRegression(max_iter=200)\n",
    "model.fit(X_train, y_train)\n",
    "y_pred = model.predict(X_test)\n",
    "y_prob = model.predict_proba(X_test)[:, 1]"
   ]
  },
  {
   "cell_type": "markdown",
   "id": "2cbd5cc6-4250-4df1-9d73-afd651be097a",
   "metadata": {},
   "source": [
    "### 📘 Explicación del código\n",
    "\n",
    "- `model = LogisticRegression(max_iter=200)`:  \n",
    "  Crea una instancia del modelo de regresión logística. El parámetro `max_iter=200` asegura que el algoritmo tenga suficiente número de iteraciones para converger durante el entrenamiento.\n",
    "\n",
    "- `model.fit(X_train, y_train)`:  \n",
    "  Ajusta el modelo a los datos de entrenamiento, aprendiendo la relación entre las variables predictoras (`X_train`) y la variable objetivo (`y_train`).\n",
    "\n",
    "- `y_pred = model.predict(X_test)`:  \n",
    "  Genera predicciones de clase (`0` o `1`) sobre los datos de prueba. Estas predicciones pueden usarse para evaluar métricas como precisión, recall o exactitud.\n",
    "\n",
    "- `y_prob = model.predict_proba(X_test)[:, 1]`:  \n",
    "  Calcula la probabilidad estimada de que cada observación de `X_test` pertenezca a la clase positiva (`1`).  \n",
    "  Se selecciona únicamente la segunda columna (`[:, 1]`) del resultado porque corresponde a la clase `1`.\n",
    "\n",
    "Finalmente, este conjunto de instrucciones permite no solo predecir clases directamente, sino también obtener las probabilidades asociadas a cada predicción. Estas probabilidades son fundamentales para evaluar el desempeño del modelo con métricas como la curva ROC, calcular el AUC, o establecer umbrales personalizados según el contexto del problema.\n"
   ]
  },
  {
   "cell_type": "markdown",
   "id": "8aec442c",
   "metadata": {},
   "source": [
    "## ⚠️ 4. Evaluación del modelo (fallido)"
   ]
  },
  {
   "cell_type": "code",
   "execution_count": 4,
   "id": "ee83d47e",
   "metadata": {
    "scrolled": true
   },
   "outputs": [
    {
     "name": "stdout",
     "output_type": "stream",
     "text": [
      "Reporte de clasificación:\n",
      "              precision    recall  f1-score   support\n",
      "\n",
      "           0       0.80      1.00      0.89       311\n",
      "           1       0.00      0.00      0.00        79\n",
      "\n",
      "    accuracy                           0.80       390\n",
      "   macro avg       0.40      0.50      0.44       390\n",
      "weighted avg       0.64      0.80      0.71       390\n",
      "\n",
      "\n",
      "Distribución de predicciones:\n",
      "(array([0]), array([390]))\n"
     ]
    }
   ],
   "source": [
    "print(\"Reporte de clasificación:\")\n",
    "print(classification_report(y_test, y_pred, zero_division=0))\n",
    "\n",
    "print(\"\\nDistribución de predicciones:\")\n",
    "print(np.unique(y_pred, return_counts=True))"
   ]
  },
  {
   "cell_type": "markdown",
   "id": "ea6c0957-3209-428b-aaa1-154e833db4cd",
   "metadata": {},
   "source": [
    "### 📘 Explicación del código\n",
    "\n",
    "- `print(\"Reporte de clasificación:\")`:  \n",
    "  Muestra un encabezado para indicar que se imprimirá el resumen de métricas del modelo.\n",
    "\n",
    "- `print(classification_report(y_test, y_pred, zero_division=0))`:  \n",
    "  Genera un reporte con las métricas principales de evaluación del modelo: precisión, recall, f1-score y soporte para cada clase.  \n",
    "  El parámetro `zero_division=0` evita errores si una clase no fue predicha en absoluto, asignando un valor de cero en lugar de lanzar una excepción.\n",
    "\n",
    "- `print(\"\\nDistribución de predicciones:\")`:  \n",
    "  Agrega un título para mostrar cuántas observaciones fueron clasificadas en cada clase.\n",
    "\n",
    "- `print(np.unique(y_pred, return_counts=True))`:  \n",
    "  Cuenta cuántas veces el modelo predijo cada clase. Esto permite detectar si el modelo está sesgado hacia una sola clase (como sucede en casos de desbalance extremo).\n",
    "\n",
    "Este bloque permite revisar no solo las métricas formales del modelo, sino también entender si está haciendo predicciones razonables en ambas clases o si está completamente sesgado hacia una sola.\n"
   ]
  },
  {
   "cell_type": "markdown",
   "id": "b6e08e8a-f4b9-4936-8222-c6c2de5f1fb6",
   "metadata": {},
   "source": [
    "### 📋 Reporte de clasificación (modelo)\n",
    "\n",
    "| Clase | Precisión | Recall | F1-score | Soporte |\n",
    "|-------|-----------|--------|----------|---------|\n",
    "| 0     | 0.80      | 1.00   | 0.89     | 311     |\n",
    "| 1     | 0.00      | 0.00   | 0.00     | 79      |\n",
    "|       |           |        |          |         |\n",
    "| **Exactitud** |        |        | **0.80** |         |\n",
    "| **Macro avg** | 0.40 | 0.50   | 0.44     | 390     |\n",
    "| **Weighted avg** | 0.64 | 0.80   | 0.71     | 390     |\n",
    "\n",
    "### 📌 Distribución de predicciones:\n",
    "- Clase 0: 390 observaciones  \n",
    "- Clase 1: 0 observaciones\n"
   ]
  },
  {
   "cell_type": "markdown",
   "id": "e5ab8a5f",
   "metadata": {},
   "source": [
    "### 📊 Análisis del resultado\n",
    "\n",
    "El modelo predijo únicamente la clase `0` para las 390 observaciones, y no predijo ningún caso de clase `1`.  \n",
    "Esto se evidencia en la distribución de predicciones:\n",
    "\n",
    "- Clase 0: 390 observaciones  \n",
    "- Clase 1: 0 observaciones\n",
    "\n",
    "Como resultado, el `recall`, `precisión` y `f1-score` de la clase 1 son todos cero.  \n",
    "Aunque la exactitud general (`accuracy`) es del 80%, esto es engañoso porque el modelo **no está reconociendo en absoluto la clase minoritaria**, lo cual puede ser crítico dependiendo del contexto (por ejemplo, si la clase 1 representa una condición de riesgo o un grupo vulnerable).\n",
    "\n",
    "El promedio ponderado (`weighted avg`) refleja este sesgo, mientras que el `macro avg` (que promedia las clases por igual) deja en evidencia la baja capacidad del modelo para tratar ambas clases de forma equilibrada.\n"
   ]
  },
  {
   "cell_type": "markdown",
   "id": "539b607b",
   "metadata": {},
   "source": [
    "## 🛠️ 5. Corrección con class_weight='balanced'"
   ]
  },
  {
   "cell_type": "code",
   "execution_count": 5,
   "id": "ae766412",
   "metadata": {},
   "outputs": [],
   "source": [
    "model_corr = LogisticRegression(max_iter=200, class_weight='balanced')\n",
    "model_corr.fit(X_train, y_train)\n",
    "y_pred_corr = model_corr.predict(X_test)\n",
    "y_prob_corr = model_corr.predict_proba(X_test)[:, 1]"
   ]
  },
  {
   "cell_type": "markdown",
   "id": "8f03792b-0dc8-4359-b15a-50ead03a1758",
   "metadata": {},
   "source": [
    "### 📘 Explicación del código\n",
    "\n",
    "- `model_corr = LogisticRegression(max_iter=200, class_weight='balanced')`:  \n",
    "  Se crea un modelo de regresión logística donde `class_weight='balanced'` ajusta automáticamente el peso de cada clase en función de su frecuencia. Esto es útil cuando hay desbalance en los datos, como en este caso. El parámetro `max_iter=200` garantiza que el modelo tenga suficientes iteraciones para converger.\n",
    "\n",
    "- `model_corr.fit(X_train, y_train)`:  \n",
    "  Entrena el modelo con los datos de entrenamiento, permitiendo que aprenda la relación entre las variables predictoras y la variable objetivo.\n",
    "\n",
    "- `y_pred_corr = model_corr.predict(X_test)`:  \n",
    "  Genera predicciones de clase (`0` o `1`) sobre el conjunto de prueba. Estas predicciones se usarán para evaluar el rendimiento del modelo.\n",
    "\n",
    "- `y_prob_corr = model_corr.predict_proba(X_test)[:, 1]`:  \n",
    "  Calcula la probabilidad de que cada observación del conjunto de prueba pertenezca a la clase positiva (`1`).  \n",
    "  Se extrae la segunda columna (`[:, 1]`) ya que corresponde a esa clase.\n",
    "\n",
    "Este bloque aplica una estrategia para mitigar el efecto del desbalance de clases, ajustando el modelo para que preste más atención a la clase minoritaria sin necesidad de modificar manualmente el conjunto de datos.\n"
   ]
  },
  {
   "cell_type": "markdown",
   "id": "589c98d6-1eb4-4920-a278-00a053e5cb22",
   "metadata": {},
   "source": [
    "### 📋 Reporte de clasificación (modelo con `class_weight='balanced'`)\n",
    "\n",
    "| Clase | Precisión | Recall | F1-score | Soporte |\n",
    "|-------|-----------|--------|----------|---------|\n",
    "| 0     | 0.XX      | 0.XX   | 0.XX     | XXX     |\n",
    "| 1     | 0.XX      | 0.XX   | 0.XX     | XXX     |\n",
    "|       |           |        |          |         |\n",
    "| **Exactitud**     |         |          | **0.XX** |         |\n",
    "| **Macro avg**     | 0.XX    | 0.XX     | 0.XX     | XXX     |\n",
    "| **Weighted avg**  | 0.XX    | 0.XX     | 0.XX     | XXX     |\n",
    "\n",
    "### 📌 Distribución de predicciones:\n",
    "- Clase 0: XXX observaciones  \n",
    "- Clase 1: XXX observaciones\n"
   ]
  },
  {
   "cell_type": "markdown",
   "id": "3ec0b39e",
   "metadata": {},
   "source": [
    "## 📊 6. Evaluación del modelo corregido"
   ]
  },
  {
   "cell_type": "code",
   "execution_count": 6,
   "id": "29c67eef",
   "metadata": {},
   "outputs": [
    {
     "name": "stdout",
     "output_type": "stream",
     "text": [
      "Reporte de clasificación (modelo corregido):\n",
      "              precision    recall  f1-score   support\n",
      "\n",
      "           0       0.80      0.48      0.60       311\n",
      "           1       0.21      0.54      0.30        79\n",
      "\n",
      "    accuracy                           0.49       390\n",
      "   macro avg       0.51      0.51      0.45       390\n",
      "weighted avg       0.68      0.49      0.54       390\n",
      "\n"
     ]
    },
    {
     "data": {
      "image/png": "[encoded data removed]",
      "text/plain": [
       "<Figure size 640x480 with 2 Axes>"
      ]
     },
     "metadata": {},
     "output_type": "display_data"
    }
   ],
   "source": [
    "print(\"Reporte de clasificación (modelo corregido):\")\n",
    "print(classification_report(y_test, y_pred_corr, zero_division=0))\n",
    "\n",
    "cm = confusion_matrix(y_test, y_pred_corr)\n",
    "disp = ConfusionMatrixDisplay(confusion_matrix=cm, display_labels=[\"Baja\", \"Alta\"])\n",
    "disp.plot(cmap=\"Blues\", values_format=\"d\")\n",
    "plt.title(\"Matriz de Confusión (Corregido)\")\n",
    "plt.show()"
   ]
  },
  {
   "cell_type": "markdown",
   "id": "1344fd65-32f2-4ad3-b6a4-983764b490df",
   "metadata": {},
   "source": [
    "### 📘 Explicación del código\n",
    "\n",
    "- `print(\"Reporte de clasificación (modelo corregido):\")`:  \n",
    "  Imprime un encabezado para contextualizar el reporte que se mostrará a continuación.\n",
    "\n",
    "- `print(classification_report(y_test, y_pred_corr, zero_division=0))`:  \n",
    "  Muestra las métricas de evaluación del modelo corregido: precisión, recall, f1-score y soporte para cada clase.  \n",
    "  El argumento `zero_division=0` evita errores si alguna métrica no puede calcularse.\n",
    "\n",
    "- `cm = confusion_matrix(y_test, y_pred_corr)`:  \n",
    "  Calcula la matriz de confusión comparando los valores reales (`y_test`) con las predicciones (`y_pred_corr`).\n",
    "\n",
    "- `disp = ConfusionMatrixDisplay(...)`:  \n",
    "  Crea una visualización de la matriz de confusión con etiquetas personalizadas para las clases: \"Baja\" y \"Alta\".\n",
    "\n",
    "- `disp.plot(...)`:  \n",
    "  Dibuja la matriz de confusión utilizando una escala de color azul y formato entero para los valores mostrados.\n",
    "\n",
    "- `plt.title(\"Matriz de Confusión (Corregido)\")`:  \n",
    "  Añade un título al gráfico para indicar que corresponde al modelo corregido.\n",
    "\n",
    "- `plt.show()`:  \n",
    "  Muestra la visualización generada.\n"
   ]
  },
  {
   "cell_type": "markdown",
   "id": "49e23911-17b3-413c-b64c-be2c0a3369fa",
   "metadata": {},
   "source": [
    "### 📊 Análisis del resultado\n",
    "\n",
    "El modelo corregido logra identificar parte de la clase minoritaria (clase 1), lo cual no ocurría con el modelo anterior.  \n",
    "En este caso, la clase 1 obtuvo un `recall` de 0.54, lo que significa que el modelo logró identificar el 54% de los casos positivos reales.  \n",
    "Sin embargo, la `precisión` en esa clase es baja (0.21), lo que indica que muchas de las predicciones positivas fueron incorrectas.  \n",
    "El desempeño de la clase 0 también se vio afectado: su `recall` bajó a 0.48, lo que refleja que el modelo sacrificó parte de su capacidad para identificar correctamente esta clase a cambio de balancear su atención sobre la clase 1.  \n",
    "La exactitud general del modelo es de 0.49, menor que la del modelo anterior, pero refleja un enfoque más equilibrado.  \n",
    "Esto es común en modelos ajustados para clases desbalanceadas: el objetivo es mejorar el tratamiento de la clase minoritaria aunque eso implique una caída en la precisión global.\n"
   ]
  },
  {
   "cell_type": "markdown",
   "id": "9b857915-e93d-4691-9d01-e522fdf86302",
   "metadata": {},
   "source": [
    "### 📋 Reporte de clasificación (modelo corregido)\n",
    "\n",
    "| Clase | Precisión | Recall | F1-score | Soporte |\n",
    "|-------|-----------|--------|----------|---------|\n",
    "| 0     | 0.80      | 0.48   | 0.60     | 311     |\n",
    "| 1     | 0.21      | 0.54   | 0.30     | 79      |\n",
    "|       |           |        |          |         |\n",
    "| **Exactitud**     |         |          | **0.49** |         |\n",
    "| **Macro avg**     | 0.51    | 0.51     | 0.45     | 390     |\n",
    "| **Weighted avg**  | 0.68    | 0.49     | 0.54     | 390     |\n"
   ]
  },
  {
   "cell_type": "markdown",
   "id": "18cf8ec1-9a73-4107-a32e-89d042d7d4e3",
   "metadata": {},
   "source": [
    "### 📊 Análisis de la matriz de confusión (modelo corregido)\n",
    "\n",
    "La matriz de confusión compara las etiquetas verdaderas con las predichas por el modelo:\n",
    "\n",
    "- **148** observaciones de clase \"Baja\" fueron correctamente clasificadas como \"Baja\" (verdaderos negativos).\n",
    "- **163** observaciones de clase \"Baja\" fueron incorrectamente clasificadas como \"Alta\" (falsos positivos).\n",
    "- **43** observaciones de clase \"Alta\" fueron correctamente clasificadas como \"Alta\" (verdaderos positivos).\n",
    "- **36** observaciones de clase \"Alta\" fueron clasificadas erróneamente como \"Baja\" (falsos negativos).\n",
    "\n",
    "Este resultado muestra que el modelo ha mejorado su capacidad de reconocer la clase minoritaria \"Alta\" respecto al modelo sin balanceo:  \n",
    "logra **identificar 43 casos correctamente**, mientras que antes no reconocía ninguno. Sin embargo, esta mejora implica una pérdida en la precisión para la clase \"Baja\", que ahora tiene **más errores de clasificación**.\n",
    "\n",
    "En resumen, el modelo corrigió parcialmente el sesgo hacia la clase mayoritaria, logrando identificar más casos positivos reales, aunque sacrificando parte de su exactitud general.\n"
   ]
  },
  {
   "cell_type": "markdown",
   "id": "ef3baf03",
   "metadata": {},
   "source": [
    "## 📈 7. Curva ROC del modelo corregido"
   ]
  },
  {
   "cell_type": "code",
   "execution_count": 7,
   "id": "3b800c66",
   "metadata": {},
   "outputs": [
    {
     "data": {
      "image/png": "[encoded data removed]",
      "text/plain": [
       "<Figure size 640x480 with 1 Axes>"
      ]
     },
     "metadata": {},
     "output_type": "display_data"
    }
   ],
   "source": [
    "fpr, tpr, _ = roc_curve(y_test, y_prob_corr)\n",
    "auc = roc_auc_score(y_test, y_prob_corr)\n",
    "\n",
    "plt.plot(fpr, tpr, label=f\"AUC = {auc:.2f}\")\n",
    "plt.plot([0, 1], [0, 1], '--', color='gray')\n",
    "plt.xlabel(\"Tasa de falsos positivos\")\n",
    "plt.ylabel(\"Tasa de verdaderos positivos\")\n",
    "plt.title(\"Curva ROC - Modelo corregido\")\n",
    "plt.legend()\n",
    "plt.grid(True)\n",
    "plt.show()"
   ]
  },
  {
   "cell_type": "markdown",
   "id": "29566d0a-6dbb-45f2-8d0f-b954796a64db",
   "metadata": {},
   "source": [
    "### 📘 Explicación del código\n",
    "\n",
    "- `fpr, tpr, _ = roc_curve(y_test, y_prob_corr)`:  \n",
    "  Calcula las tasas de falsos positivos (`fpr`) y verdaderos positivos (`tpr`) para diferentes umbrales usando las probabilidades predichas. Estos valores se usan para construir la curva ROC.\n",
    "\n",
    "- `auc = roc_auc_score(y_test, y_prob_corr)`:  \n",
    "  Calcula el área bajo la curva ROC (AUC), que resume el rendimiento del modelo para todos los posibles umbrales de decisión.\n",
    "\n",
    "- `plt.plot(fpr, tpr, label=f\"AUC = {auc:.2f}\")`:  \n",
    "  Dibuja la curva ROC del modelo y muestra el valor de AUC como etiqueta.\n",
    "\n",
    "- `plt.plot([0, 1], [0, 1], '--', color='gray')`:  \n",
    "  Dibuja una línea diagonal como referencia. Representa el rendimiento de un modelo aleatorio (sin poder de discriminación).\n",
    "\n",
    "- `plt.xlabel(...) / plt.ylabel(...) / plt.title(...)`:  \n",
    "  Añade etiquetas a los ejes y un título descriptivo al gráfico.\n",
    "\n",
    "- `plt.legend()` / `plt.grid(True)` / `plt.show()`:  \n",
    "  Muestra la leyenda del gráfico, activa la cuadrícula y renderiza la visualización final.\n"
   ]
  },
  {
   "cell_type": "markdown",
   "id": "b0769879-c2d7-46c2-869b-eb5ebbf86f84",
   "metadata": {},
   "source": [
    "### 📊 Análisis de la curva ROC\n",
    "\n",
    "La curva ROC del modelo corregido muestra cómo varía la tasa de verdaderos positivos frente a la tasa de falsos positivos a diferentes umbrales de decisión.\n",
    "\n",
    "El área bajo la curva (AUC) es de **0.56**, lo que indica un rendimiento **ligeramente superior al de un modelo aleatorio** (AUC = 0.50).  \n",
    "Aunque el modelo logró identificar algunos casos positivos (como se vio en la matriz de confusión), su capacidad general de discriminación entre clases sigue siendo limitada.\n",
    "\n",
    "Una curva más cercana a la esquina superior izquierda (mayor TPR con menor FPR) indicaría un mejor desempeño. En este caso, la curva se acerca por momentos a la diagonal aleatoria, mostrando que el modelo aún tiene dificultades para separar correctamente las clases, a pesar del uso del `class_weight='balanced'`.\n",
    "\n",
    "Este tipo de resultado sugiere que podrían explorarse otras estrategias como el ajuste de umbrales, recolección de más datos, selección de variables o uso de algoritmos más complejos.\n"
   ]
  },
  {
   "cell_type": "markdown",
   "id": "bc2b6064-104e-443f-a861-a68bce0eaa57",
   "metadata": {},
   "source": [
    "### 📌 Conclusión del modelo\n",
    "\n",
    "El modelo de regresión logística entrenado con `class_weight='balanced'` mostró una mejora importante en la detección de la clase minoritaria (\"Alta conectividad\"), en comparación con el modelo sin balanceo. Mientras que el modelo original no lograba predecir ningún caso de clase 1, el modelo corregido consiguió un `recall` de 0.54 para esa clase.\n",
    "\n",
    "Sin embargo, esta mejora tuvo un costo significativo en otros aspectos del rendimiento:\n",
    "\n",
    "- La exactitud general cayó a 0.49.\n",
    "- El modelo cometió más errores al clasificar la clase mayoritaria (\"Baja\").\n",
    "- El valor de AUC fue bajo (0.56), indicando que el poder de discriminación entre clases sigue siendo débil.\n",
    "- La matriz de confusión muestra una alta tasa de falsos positivos (163) y falsos negativos (36).\n",
    "\n",
    "En resumen, el modelo corrigió parcialmente el sesgo hacia la clase mayoritaria, pero aún tiene dificultades para lograr un equilibrio entre precisión y sensibilidad.\n",
    "\n",
    "### 🔧 Posibles estrategias de mejora\n",
    "\n",
    "1. **Ajustar el umbral de decisión**:  \n",
    "   El modelo por defecto clasifica como \"1\" si la probabilidad es ≥ 0.5. Ajustar este umbral puede mejorar el `recall` o la `precisión` de forma específica según el objetivo del análisis.\n",
    "\n",
    "2. **Ingeniería de variables**:  \n",
    "   Evaluar la relevancia de las variables actuales y crear nuevas variables derivadas puede mejorar el poder predictivo del modelo.\n",
    "\n",
    "3. **Selección de variables**:  \n",
    "   Eliminar variables redundantes o poco informativas puede ayudar a reducir el ruido y mejorar la generalización.\n",
    "\n",
    "4. **Usar modelos más complejos**:  \n",
    "   Algoritmos como árboles de decisión, Random Forest, Gradient Boosting o redes neuronales pueden capturar relaciones no lineales y mejorar el rendimiento frente a regresión logística en conjuntos desbalanceados.\n",
    "\n",
    "5. **Resampling**:  \n",
    "   Aplicar técnicas de sobremuestreo (como SMOTE) o submuestreo para balancear el conjunto de entrenamiento.\n",
    "\n",
    "6. **Validación cruzada estratificada**:  \n",
    "   Asegura que el proceso de evaluación tenga una representación proporcional de ambas clases en cada partición, lo que puede dar lugar a una mejor selección de hiperparámetros y evaluación más robusta.\n",
    "\n",
    "Aplicar una o varias de estas estrategias puede contribuir significativamente a mejorar el rendimiento del modelo, especialmente en contextos donde la clase minoritaria es crítica para la toma de decisiones.\n"
   ]
  },
  {
   "cell_type": "markdown",
   "id": "f785063b-ebb6-40c5-8605-4006aee1642d",
   "metadata": {},
   "source": [
    "### ▶️ ¿Qué sigue?\n",
    "\n",
    "A partir del análisis realizado, se concluye que el modelo corregido logra avances importantes frente al desbalance de clases, pero aún presenta limitaciones en su capacidad predictiva general.\n",
    "\n",
    "En las siguientes secciones se explorarán nuevas estrategias para mejorar el rendimiento del modelo, incluyendo:\n",
    "\n",
    "- Ajuste del umbral de decisión\n",
    "- Implementación de algoritmos más robustos como Random Forest o XGBoost\n",
    "- Aplicación de técnicas de balanceo como SMOTE\n",
    "- Optimización de hiperparámetros mediante validación cruzada\n",
    "\n",
    "El objetivo será construir un modelo más equilibrado, que mantenga un buen desempeño en ambas clases y se adapte mejor a los desafíos del contexto analizado.\n"
   ]
  },
  {
   "cell_type": "code",
   "execution_count": null,
   "id": "f00f762a-61de-49db-9322-bf48f9ff4165",
   "metadata": {},
   "outputs": [],
   "source": []
  }
 ],
 "metadata": {
  "kernelspec": {
   "display_name": "Python 3 (ipykernel)",
   "language": "python",
   "name": "python3"
  },
  "language_info": {
   "codemirror_mode": {
    "name": "ipython",
    "version": 3
   },
   "file_extension": ".py",
   "mimetype": "text/x-python",
   "name": "python",
   "nbconvert_exporter": "python",
   "pygments_lexer": "ipython3",
   "version": "3.13.2"
  }
 },
 "nbformat": 4,
 "nbformat_minor": 5
}
