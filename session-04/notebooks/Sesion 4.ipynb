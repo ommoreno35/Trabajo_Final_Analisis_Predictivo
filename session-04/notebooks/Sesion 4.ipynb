{
 "cells": [
  {
   "cell_type": "markdown",
   "id": "6488aa64",
   "metadata": {},
   "source": [
    "# 🧩 Estudio de caso – Clasificación de conectividad\n",
    "\n",
    "En este ejercicio implementaremos el algoritmo K-Nearest Neighbors (KNN) para predecir si una persona tiene alta conectividad a partir de variables como edad, ingreso, nivel educativo y ciudad.\n",
    "\n",
    "El dataset ha sido previamente limpiado y transformado, y contiene la variable objetivo `Alta_conectividad` (1 si la persona usa más de 3.5 horas diarias de internet, 0 en caso contrario).\n"
   ]
  },
  {
   "cell_type": "code",
   "execution_count": 1,
   "id": "048c8afd",
   "metadata": {},
   "outputs": [],
   "source": [
    "import pandas as pd\n",
    "from sklearn.model_selection import train_test_split\n",
    "from sklearn.preprocessing import MinMaxScaler\n",
    "from sklearn.neighbors import KNeighborsClassifier\n",
    "from sklearn.metrics import accuracy_score, classification_report\n",
    "\n",
    "# Cargar datos limpios\n",
    "df = pd.read_csv('../../datos/dataset_limpio.csv')"
   ]
  },
  {
   "cell_type": "markdown",
   "id": "6be86177",
   "metadata": {},
   "source": [
    "### 🎯 Separar variables predictoras y objetivo"
   ]
  },
  {
   "cell_type": "code",
   "execution_count": 2,
   "id": "c4a2f268",
   "metadata": {},
   "outputs": [],
   "source": [
    "X = df.drop(columns=['ID', 'CodigoID', 'Horas_Internet', 'Alta_conectividad'])\n",
    "y = df['Alta_conectividad']"
   ]
  },
  {
   "cell_type": "markdown",
   "id": "d1c2abb6-08dc-4f0c-a9e9-30fd2871f50f",
   "metadata": {},
   "source": [
    "## 🧾 Selección de variables para el modelo\n",
    "\n",
    "```python\n",
    "X = df.drop(columns=['ID', 'CodigoID', 'Horas_Internet', 'Alta_conectividad'])\n",
    "y = df['Alta_conectividad']\n",
    "```\n",
    "\n",
    "### ¿Qué hace este bloque?\n",
    "\n",
    "1. **`X = df.drop(...)`**\n",
    "   - Se crea el conjunto de **variables predictoras** (`X`) eliminando algunas columnas del DataFrame original `df`.\n",
    "   - Las columnas eliminadas son:\n",
    "     - `'ID'` y `'CodigoID'`: identificadores únicos que no aportan valor predictivo.\n",
    "     - `'Horas_Internet'`: ya se usó para construir la variable objetivo.\n",
    "     - `'Alta_conectividad'`: esta es precisamente la **variable objetivo** que queremos predecir, así que no debe estar en `X`.\n",
    "\n",
    "2. **`y = df['Alta_conectividad']`**\n",
    "   - Se define la **variable objetivo** (`y`) que queremos que el modelo prediga.\n",
    "   - Esta variable indica si una persona tiene alta conectividad a internet (1) o no (0).\n",
    "\n",
    "---\n",
    "\n",
    "📌 En resumen:\n",
    "\n",
    "- `X` contiene todas las variables que el modelo usará como entrada.\n",
    "- `y` es la salida esperada que el modelo debe aprender a predecir.\n"
   ]
  },
  {
   "cell_type": "markdown",
   "id": "97122bb5",
   "metadata": {},
   "source": [
    "### 🔀 División en entrenamiento y prueba"
   ]
  },
  {
   "cell_type": "code",
   "execution_count": 3,
   "id": "ccb4c2f6",
   "metadata": {},
   "outputs": [],
   "source": [
    "X_train, X_test, y_train, y_test = train_test_split(X, y, test_size=0.3, random_state=42)"
   ]
  },
  {
   "cell_type": "markdown",
   "id": "6218cede-973e-4130-a23e-ffab6f0a4991",
   "metadata": {},
   "source": [
    "## 🔀 División del conjunto de datos en entrenamiento y prueba\n",
    "\n",
    "```python\n",
    "X_train, X_test, y_train, y_test = train_test_split(X, y, test_size=0.3, random_state=42)\n",
    "```\n",
    "\n",
    "### ¿Qué hace este bloque?\n",
    "\n",
    "Este comando divide el conjunto de datos (`X` y `y`) en dos subconjuntos:\n",
    "\n",
    "- `X_train`, `y_train`: para **entrenar** el modelo (70% de los datos).\n",
    "- `X_test`, `y_test`: para **evaluar** el modelo (30% de los datos).\n",
    "\n",
    "---\n",
    "\n",
    "### ⚙️ Parámetros clave\n",
    "\n",
    "- `test_size=0.3`:  \n",
    "  Indica que el 30% de los datos se utilizarán para prueba y el 70% restante para entrenamiento.\n",
    "\n",
    "- `random_state=42`:  \n",
    "  Fija la \"semilla\" aleatoria para que la división sea reproducible (los mismos datos se dividen igual cada vez que se corre el código).\n",
    "\n",
    "---\n",
    "\n",
    "📌 **¿Por qué se divide así?**\n",
    "\n",
    "Separar los datos en entrenamiento y prueba permite:\n",
    "\n",
    "- Evaluar el rendimiento del modelo sobre datos **no vistos durante el entrenamiento**.\n",
    "- Evitar sobreajuste (overfitting), asegurando que el modelo generalice bien a nuevos casos.\n",
    "\n"
   ]
  },
  {
   "cell_type": "markdown",
   "id": "6f61fded",
   "metadata": {},
   "source": [
    "### 🏷️ Codificación de variables categóricas"
   ]
  },
  {
   "cell_type": "code",
   "execution_count": 4,
   "id": "d26098bc",
   "metadata": {},
   "outputs": [],
   "source": [
    "X_train = pd.get_dummies(X_train, drop_first=True)\n",
    "X_test = pd.get_dummies(X_test, drop_first=True)\n",
    "\n",
    "# Alinear columnas en caso de que falte alguna categoría en test o train\n",
    "X_train, X_test = X_train.align(X_test, join='left', axis=1, fill_value=0)"
   ]
  },
  {
   "cell_type": "markdown",
   "id": "100421a6-9dea-448a-8b41-b3f965f19d68",
   "metadata": {
    "jp-MarkdownHeadingCollapsed": true
   },
   "source": [
    "### ¿Qué hace este bloque?\n",
    "\n",
    "#### 🔸 `pd.get_dummies(...)`\n",
    "- Convierte variables categóricas (como `'Genero'`, `'Ciudad'`, `'Nivel_Educativo'`) en variables numéricas binarias (**one-hot encoding**).\n",
    "- Por ejemplo, la columna `'Ciudad'` con valores como `'Bogotá'`, `'Cali'`, `'Medellín'` se convierte en varias columnas:\n",
    "  - `'Ciudad_Cali'`, `'Ciudad_Medellín'`, etc. (cada una vale 1 o 0).\n",
    "\n",
    "- `drop_first=True` elimina la primera categoría de cada variable para **evitar colinealidad** (redundancia estadística).\n",
    "\n",
    "#### 🔸 Alineación con `.align(...)`\n",
    "- Después de la codificación, puede ocurrir que `X_train` y `X_test` tengan **columnas distintas**, por ejemplo, si una categoría aparece solo en el entrenamiento.\n",
    "- `X_train.align(X_test, ...)` ajusta ambos DataFrames para que tengan exactamente las **mismas columnas**:\n",
    "  - `join='left'`: conserva las columnas de `X_train`.\n",
    "  - `fill_value=0`: si alguna columna falta en `X_test`, se rellena con ceros.\n",
    "\n",
    "---\n",
    "\n",
    "📌 **¿Por qué es importante hacer esto?**\n",
    "\n",
    "- Los modelos de machine learning **solo aceptan variables numéricas**.\n",
    "- Todos los datos (train y test) deben tener exactamente la **misma estructura** de variables.\n",
    "- Esta codificación permite al modelo **interpretar correctamente categorías** y evita errores de forma.\n",
    "\n"
   ]
  },
  {
   "cell_type": "markdown",
   "id": "1498eb08",
   "metadata": {},
   "source": [
    "### 📏 Escalado de variables numéricas"
   ]
  },
  {
   "cell_type": "code",
   "execution_count": 5,
   "id": "1d5ce6ff",
   "metadata": {},
   "outputs": [],
   "source": [
    "scaler = MinMaxScaler()\n",
    "X_train = scaler.fit_transform(X_train)\n",
    "X_test = scaler.transform(X_test)"
   ]
  },
  {
   "cell_type": "markdown",
   "id": "e527f81e-5016-423d-bdfe-d5ca97f8fe66",
   "metadata": {
    "jp-MarkdownHeadingCollapsed": true
   },
   "source": [
    "### ¿Qué hace este bloque?\n",
    "\n",
    "Este código aplica **escalado Min-Max** a las variables numéricas del conjunto de datos.\n",
    "\n",
    "#### 🔸 `MinMaxScaler()`\n",
    "- Es un método de normalización que transforma los valores numéricos para que estén en el rango **[0, 1]**.\n",
    "- Usa la siguiente fórmula:\n",
    "\n",
    "$$\n",
    "X_{\\text{escalado}} = \\frac{X - \\min(X)}{\\max(X) - \\min(X)}\n",
    "$$\n",
    "\n",
    "Esto hace que la variable más pequeña valga 0 y la más grande valga 1.\n",
    "\n",
    "---\n",
    "\n",
    "### 🧪 Aplicación\n",
    "\n",
    "- `scaler.fit_transform(X_train)`:  \n",
    "  Ajusta el escalador con los datos de entrenamiento y los transforma.\n",
    "\n",
    "- `scaler.transform(X_test)`:  \n",
    "  Aplica la misma transformación al conjunto de prueba (usando los parámetros del entrenamiento).\n",
    "\n",
    "---\n",
    "\n",
    "### 🧠 ¿Por qué es importante escalar?\n",
    "\n",
    "- Algoritmos como **KNN** y **regresión logística** se basan en distancias o magnitudes.\n",
    "- Si una variable (por ejemplo, ingreso) tiene valores mucho mayores que otra (como edad), dominará el resultado.\n",
    "- Escalar pone todas las variables en **la misma escala**, evitando sesgos y mejorando el rendimiento del modelo.\n",
    "\n"
   ]
  },
  {
   "cell_type": "markdown",
   "id": "20c2684d",
   "metadata": {},
   "source": [
    "### 🤖 Entrenamiento y predicción con KNN"
   ]
  },
  {
   "cell_type": "code",
   "execution_count": 6,
   "id": "e0367fd4",
   "metadata": {},
   "outputs": [],
   "source": [
    "knn = KNeighborsClassifier(n_neighbors=5)\n",
    "knn.fit(X_train, y_train)\n",
    "y_pred = knn.predict(X_test)"
   ]
  },
  {
   "cell_type": "markdown",
   "id": "658a4d35-fb91-44b5-8a4d-a3b55cfbaea0",
   "metadata": {},
   "source": [
    "## 🤖 Entrenamiento y predicción con el modelo KNN\n",
    "\n",
    "```python\n",
    "knn = KNeighborsClassifier(n_neighbors=5)\n",
    "knn.fit(X_train, y_train)\n",
    "y_pred = knn.predict(X_test)\n",
    "```\n",
    "\n",
    "### ¿Qué hace este bloque?\n",
    "\n",
    "#### 🔸 `knn = KNeighborsClassifier(n_neighbors=5)`\n",
    "- Crea una instancia del modelo **K-Nearest Neighbors** (KNN) con `k = 5`.\n",
    "- Esto significa que para clasificar una nueva observación, el modelo buscará los **5 puntos más cercanos** en el conjunto de entrenamiento y asignará la clase más común entre ellos.\n",
    "- Es un modelo **no paramétrico** y **perezoso**: no construye una función explícita, sino que almacena los datos y calcula las predicciones al momento.\n",
    "\n",
    "---\n",
    "\n",
    "#### 🔸 `knn.fit(X_train, y_train)`\n",
    "- “Entrena” el modelo con los datos de entrenamiento.\n",
    "- En el caso de KNN, esto simplemente implica **almacenar los datos de entrenamiento**, ya que no hay un proceso de ajuste de parámetros como en otros modelos.\n",
    "\n",
    "---\n",
    "\n",
    "#### 🔸 `y_pred = knn.predict(X_test)`\n",
    "- Utiliza el modelo para **predecir** la clase (`0` o `1`) de cada observación del conjunto de prueba (`X_test`).\n",
    "- Para cada caso, busca sus 5 vecinos más cercanos en `X_train` y asigna la clase más frecuente.\n",
    "\n",
    "---\n",
    "\n",
    "### 📌 ¿Por qué es útil?\n",
    "\n",
    "- Este modelo permite clasificar nuevos casos basándose en la similitud con datos conocidos.\n",
    "- Es simple y funciona bien con datos bien preparados (escalados, sin ruido, sin outliers).\n",
    "\n"
   ]
  },
  {
   "cell_type": "markdown",
   "id": "a3bf4035",
   "metadata": {},
   "source": [
    "### 📊 Evaluación del modelo"
   ]
  },
  {
   "cell_type": "code",
   "execution_count": 7,
   "id": "97f01aac",
   "metadata": {},
   "outputs": [
    {
     "name": "stdout",
     "output_type": "stream",
     "text": [
      "Exactitud: 0.6872\n",
      "              precision    recall  f1-score   support\n",
      "\n",
      "           0       0.79      0.83      0.81       311\n",
      "           1       0.16      0.13      0.14        79\n",
      "\n",
      "    accuracy                           0.69       390\n",
      "   macro avg       0.47      0.48      0.47       390\n",
      "weighted avg       0.66      0.69      0.67       390\n",
      "\n"
     ]
    }
   ],
   "source": [
    "print(\"Exactitud:\", round(accuracy_score(y_test, y_pred), 4))\n",
    "print(classification_report(y_test, y_pred))"
   ]
  },
  {
   "cell_type": "markdown",
   "id": "ceace656-ae3e-4870-bd6e-b9774921a43c",
   "metadata": {},
   "source": [
    "### ¿Qué hace este bloque?\n",
    "\n",
    "#### 🔸 `accuracy_score(y_test, y_pred)`\n",
    "- Calcula la **exactitud** del modelo, es decir, la proporción de predicciones correctas sobre el total de observaciones.\n",
    "- Se compara la predicción del modelo (`y_pred`) con los valores reales (`y_test`).\n",
    "- Se redondea a 4 decimales para una presentación más clara.\n",
    "\n",
    "#### 🔸 Ejemplo:\n",
    "Si el modelo acertó en 268 de 390 casos:\n",
    "\\[\n",
    "\\text{Exactitud} = \\frac{268}{390} = 0.6872\n",
    "\\]\n",
    "\n",
    "---\n",
    "\n",
    "#### 🔸 `classification_report(y_test, y_pred)`\n",
    "- Muestra un informe detallado de métricas de rendimiento para cada clase (en este caso: 0 = baja conectividad, 1 = alta conectividad).\n",
    "- Incluye:\n",
    "  - **Precision**: de todas las predicciones positivas, ¿cuántas fueron correctas?\n",
    "  - **Recall**: de todos los casos positivos reales, ¿cuántos fueron detectados?\n",
    "  - **F1-score**: media armónica entre precision y recall (balance entre ambos).\n",
    "  - **Support**: cantidad de observaciones por clase en los datos de prueba.\n",
    "\n",
    "---\n",
    "\n",
    "### 📌 ¿Por qué es importante?\n",
    "\n",
    "- La **exactitud sola no basta** cuando las clases están desbalanceadas.\n",
    "- El `classification_report` permite evaluar el desempeño **por clase**, lo cual es crucial si te interesa una clase en particular (por ejemplo, identificar a personas con alta conectividad).\n",
    "\n"
   ]
  },
  {
   "cell_type": "markdown",
   "id": "03b637af-9a42-4c96-aebc-084b548efe21",
   "metadata": {},
   "source": [
    "# 📊 Evaluación del Modelo - Resultados y Análisis\n",
    "\n",
    "## ✅ Exactitud del Modelo\n",
    "\n",
    "- **Exactitud (accuracy):** 0.6872  \n",
    "- El modelo acertó en el **68.72%** de los casos totales.\n",
    "\n",
    "---\n",
    "\n",
    "## 📋 Métricas por Clase\n",
    "\n",
    "| Métrica      | Clase 0 (Baja Conectividad) | Clase 1 (Alta Conectividad) |\n",
    "|--------------|------------------------------|-------------------------------|\n",
    "| Precision    | 0.79                         | 0.16                          |\n",
    "| Recall       | 0.83                         | 0.13                          |\n",
    "| F1-score     | 0.81                         | 0.14                          |\n",
    "| Support (# casos) | 311                   | 79                            |\n",
    "\n",
    "---\n",
    "\n",
    "## 🧠 Interpretación\n",
    "\n",
    "### Clase 0: Baja Conectividad\n",
    "- **Muy bien clasificada.**\n",
    "- Alta precisión y recall.\n",
    "- La mayoría de los datos pertenecen a esta clase.\n",
    "\n",
    "### Clase 1: Alta Conectividad\n",
    "- **Muy mal clasificada.**\n",
    "- Solo el 13% de los verdaderos positivos son detectados.\n",
    "- Solo el 16% de las predicciones positivas fueron correctas.\n",
    "\n",
    "---\n",
    "\n",
    "## 🧮 Promedios Globales\n",
    "\n",
    "| Tipo de Promedio  | Precision | Recall | F1-score | ¿Qué significa? |\n",
    "|-------------------|-----------|--------|----------|------------------|\n",
    "| Macro Avg         | 0.47      | 0.48   | 0.47     | Promedio simple entre clases. No pondera. |\n",
    "| Weighted Avg      | 0.66      | 0.69   | 0.67     | Ponderado según la cantidad de ejemplos por clase. |\n",
    "\n",
    "---\n",
    "\n",
    "## 🎯 Contexto del Proyecto\n",
    "\n",
    "- Fundación que busca mejorar el **acceso a internet** en comunidades vulnerables.\n",
    "- Se desea **identificar personas con alta conectividad** (más de 3.5 horas de uso diario de internet).\n",
    "- Usar el modelo para guiar decisiones de inversión, focalización y políticas públicas.\n",
    "\n",
    "---\n",
    "\n",
    "## 📉 Análisis del Resultado\n",
    "\n",
    "- Aunque el modelo tiene un buen desempeño general, **falla en su objetivo central**: detectar a quienes tienen buena conectividad.\n",
    "- El modelo **ignora a la mayoría de los casos positivos**, lo que lo hace poco útil en términos prácticos.\n",
    "\n",
    "---\n",
    "\n",
    "## ⚠️ Implicaciones Prácticas\n",
    "\n",
    "- No se puede confiar en este modelo para tomar decisiones sobre intervenciones o focalización.\n",
    "- Puede perpetuar desigualdades si los datos están sesgados o incompletos.\n",
    "\n",
    "---\n",
    "\n",
    "## 🛠️ ¿Cómo Mejorar?\n",
    "\n",
    "1. **Abordar el desbalance de clases:**\n",
    "   - Usar técnicas como SMOTE, undersampling, o pesos balanceados (`class_weight='balanced'`).\n",
    "\n",
    "2. **Probar otros modelos más robustos:**\n",
    "   - Random Forest, Gradient Boosting, etc.\n",
    "\n",
    "3. **Mejorar la ingeniería de variables:**\n",
    "   - Combinaciones de Edad-Ingreso.\n",
    "   - Mejor codificación de variables categóricas.\n",
    "\n",
    "4. **Evaluar nuevas métricas:**\n",
    "   - Curva ROC-AUC  \n",
    "   - Matriz de confusión  \n",
    "   - Recall por clase  \n",
    "\n",
    "---\n",
    "\n",
    "## 📌 Conclusión\n",
    "\n",
    "Aunque el modelo alcanza una exactitud razonable, **no cumple con el objetivo real del análisis**, que es detectar correctamente los casos de alta conectividad. Se requiere **una revisión profunda de los datos, el modelo y las métricas utilizadas** antes de avanzar hacia su uso práctico.\n"
   ]
  },
  {
   "cell_type": "code",
   "execution_count": 8,
   "id": "6b086400-cefb-48e9-84b1-92bd78cb6f38",
   "metadata": {},
   "outputs": [
    {
     "data": {
      "image/png": "[encoded data removed]",
      "text/plain": [
       "<Figure size 640x480 with 2 Axes>"
      ]
     },
     "metadata": {},
     "output_type": "display_data"
    }
   ],
   "source": [
    "from sklearn.metrics import ConfusionMatrixDisplay, confusion_matrix\n",
    "import matplotlib.pyplot as plt\n",
    "\n",
    "cm = confusion_matrix(y_test, y_pred)\n",
    "disp = ConfusionMatrixDisplay(confusion_matrix=cm, display_labels=[\"Baja\", \"Alta\"])\n",
    "disp.plot(cmap=\"Blues\", values_format=\"d\")\n",
    "plt.title(\"Matriz de Confusión\")\n",
    "plt.show()\n"
   ]
  },
  {
   "cell_type": "markdown",
   "id": "a0fd2425-4b0b-4dbc-8d25-bc6bdbe958ec",
   "metadata": {},
   "source": [
    "## 🧮 Visualización: Matriz de Confusión\n",
    "\n",
    "### 📌 ¿Qué hace este bloque de código?\n",
    "\n",
    "#### 1. `confusion_matrix(y_test, y_pred)`\n",
    "- Calcula la **matriz de confusión**, una tabla que compara las predicciones del modelo (`y_pred`) con los valores reales (`y_test`).\n",
    "- Muestra cuántas veces el modelo acertó o se equivocó, desglosado por clase.\n",
    "- La matriz tiene esta forma:\n",
    "\n",
    "|                       | Predicho: Baja | Predicho: Alta |\n",
    "|-----------------------|----------------|----------------|\n",
    "| **Real: Baja**        | Verdaderos Negativos (TN) | Falsos Positivos (FP) |\n",
    "| **Real: Alta**        | Falsos Negativos (FN)     | Verdaderos Positivos (TP) |\n",
    "\n",
    "#### 2. `ConfusionMatrixDisplay(...)`\n",
    "- Crea un objeto gráfico para mostrar la matriz de confusión.\n",
    "- `display_labels=[\"Baja\", \"Alta\"]` pone etiquetas legibles para las clases (en vez de 0 y 1).\n",
    "\n",
    "#### 3. `disp.plot(...)`\n",
    "- Genera la gráfica usando una paleta de color azul (`cmap=\"Blues\"`).\n",
    "- `values_format=\"d\"` muestra los valores como enteros.\n",
    "\n",
    "#### 4. `plt.title(...)` y `plt.show()`\n",
    "- Añade un título al gráfico.\n",
    "- Muestra la visualización en pantalla.\n",
    "\n",
    "---\n",
    "\n",
    "### 🧠 ¿Para qué sirve una matriz de confusión?\n",
    "\n",
    "- Es una herramienta clave para evaluar modelos de clasificación.\n",
    "- Permite ver exactamente cuántas predicciones fueron correctas y cuántas no, separadas por clase.\n",
    "- Es más informativa que solo ver la exactitud general del modelo.\n",
    "\n",
    "---\n",
    "\n",
    "### ✅ Interpretación práctica\n",
    "\n",
    "- Ideal para entender si el modelo está **confundiendo una clase con otra**, por ejemplo, si clasifica muchos casos de alta conectividad como baja.\n",
    "- Útil para ajustar el modelo, cambiar el umbral de decisión o aplicar estrategias de rebalanceo.\n",
    "\n"
   ]
  },
  {
   "cell_type": "code",
   "execution_count": 9,
   "id": "2484a103-a547-4504-b4f9-42e787db11aa",
   "metadata": {},
   "outputs": [
    {
     "data": {
      "image/png": "[encoded data removed]",
      "text/plain": [
       "<Figure size 640x480 with 1 Axes>"
      ]
     },
     "metadata": {},
     "output_type": "display_data"
    }
   ],
   "source": [
    "from sklearn.metrics import roc_curve, roc_auc_score\n",
    "\n",
    "y_prob = knn.predict_proba(X_test)[:, 1]  # Probabilidad de clase positiva\n",
    "fpr, tpr, _ = roc_curve(y_test, y_prob)\n",
    "auc = roc_auc_score(y_test, y_prob)\n",
    "\n",
    "plt.plot(fpr, tpr, label=f\"AUC = {auc:.2f}\")\n",
    "plt.plot([0, 1], [0, 1], '--', color='gray')\n",
    "plt.xlabel(\"Tasa de falsos positivos\")\n",
    "plt.ylabel(\"Tasa de verdaderos positivos\")\n",
    "plt.title(\"Curva ROC\")\n",
    "plt.legend()\n",
    "plt.grid(True)\n",
    "plt.show()\n"
   ]
  },
  {
   "cell_type": "markdown",
   "id": "21282b9b-0231-4da1-9880-dce4dbd20404",
   "metadata": {},
   "source": [
    "## 📈 Visualización: Curva ROC y AUC\n",
    "### 📌 ¿Qué hace este bloque?\n",
    "\n",
    "#### 🔹 `knn.predict_proba(X_test)[:, 1]`\n",
    "- Obtiene las **probabilidades predichas** de que cada observación pertenezca a la clase 1 (alta conectividad).\n",
    "- El resultado es una lista de valores entre 0 y 1.\n",
    "\n",
    "#### 🔹 `roc_curve(y_test, y_prob)`\n",
    "- Calcula los valores para trazar la curva ROC:\n",
    "  - **FPR (false positive rate)**: proporción de negativos mal clasificados como positivos.\n",
    "  - **TPR (true positive rate)**: proporción de positivos correctamente clasificados (recall).\n",
    "\n",
    "#### 🔹 `roc_auc_score(y_test, y_prob)`\n",
    "- Calcula el área bajo la curva ROC (**AUC**).\n",
    "- Cuanto más cerca de 1, mejor el modelo. Un valor cercano a 0.5 indica un modelo aleatorio.\n",
    "\n",
    "---\n",
    "\n",
    "### 📈 ¿Qué es la Curva ROC?\n",
    "\n",
    "- Muestra el equilibrio entre **sensibilidad (recall)** y **especificidad** para todos los posibles umbrales de decisión.\n",
    "- Ayuda a entender cómo se comporta el modelo más allá del umbral predeterminado (por ejemplo, 0.5).\n",
    "\n",
    "---\n",
    "\n",
    "### ✅ ¿Por qué es útil?\n",
    "\n",
    "- Es especialmente útil cuando las clases están desbalanceadas.\n",
    "- Permite comparar distintos modelos independientemente del umbral de clasificación.\n",
    "- El AUC es una métrica robusta que resume el rendimiento del modelo:  \n",
    "  - **AUC ≈ 1.0**: modelo perfecto  \n",
    "  - **AUC ≈ 0.5**: modelo aleatorio\n",
    "\n"
   ]
  },
  {
   "cell_type": "code",
   "execution_count": 10,
   "id": "5d449582-f9cf-43ff-8eb5-ed03fa49ec7f",
   "metadata": {},
   "outputs": [
    {
     "data": {
      "image/png": "[encoded data removed]",
      "text/plain": [
       "<Figure size 640x480 with 1 Axes>"
      ]
     },
     "metadata": {},
     "output_type": "display_data"
    }
   ],
   "source": [
    "from sklearn.metrics import precision_recall_fscore_support\n",
    "import numpy as np\n",
    "\n",
    "metrics = precision_recall_fscore_support(y_test, y_pred, zero_division=0)\n",
    "labels = [\"Baja\", \"Alta\"]\n",
    "x = np.arange(len(labels))\n",
    "width = 0.25\n",
    "\n",
    "fig, ax = plt.subplots()\n",
    "ax.bar(x - width, metrics[0], width, label='Precision')\n",
    "ax.bar(x, metrics[1], width, label='Recall')\n",
    "ax.bar(x + width, metrics[2], width, label='F1-score')\n",
    "\n",
    "ax.set_xticks(x)\n",
    "ax.set_xticklabels(labels)\n",
    "ax.set_ylim(0, 1)\n",
    "ax.set_ylabel(\"Valor\")\n",
    "ax.set_title(\"Métricas por clase\")\n",
    "ax.legend()\n",
    "plt.grid(axis='y', linestyle='--', alpha=0.7)\n",
    "plt.show()\n"
   ]
  },
  {
   "cell_type": "markdown",
   "id": "da7a9897-7455-45fb-aa29-ad37faf53975",
   "metadata": {},
   "source": [
    "## 📊 Visualización: Gráfico de barras de métricas por clase\n",
    "### 📌 ¿Qué hace este bloque?\n",
    "\n",
    "#### 🔹 `precision_recall_fscore_support(...)`\n",
    "- Calcula las tres métricas más importantes para cada clase:\n",
    "  - **Precision**: ¿De todas las veces que el modelo predijo una clase, cuántas fueron correctas?\n",
    "  - **Recall**: ¿De todos los casos reales de una clase, cuántos fueron detectados correctamente?\n",
    "  - **F1-score**: Media armónica entre precisión y recall (balance entre ambos).\n",
    "\n",
    "#### 🔹 `bar(...)`\n",
    "- Se genera un gráfico de barras con las tres métricas por cada clase (`Baja`, `Alta`).\n",
    "- Cada grupo de barras representa una clase, y cada barra dentro del grupo una métrica.\n",
    "\n",
    "---\n",
    "\n",
    "### 🎯 ¿Para qué sirve?\n",
    "\n",
    "- Permite **comparar visualmente** el rendimiento del modelo para cada clase.\n",
    "- Ideal para detectar si el modelo está **sesgado hacia una sola clase**.\n",
    "- Útil cuando se presentan los resultados a una audiencia no técnica (más fácil de entender que tablas).\n",
    "\n",
    "---\n",
    "\n",
    "### ✅ Interpretación\n",
    "\n",
    "- Altura de cada barra: valor de la métrica entre 0 y 1.\n",
    "- Una clase con barras bajas indica que el modelo **tiene dificultades para identificarla correctamente**.\n",
    "- Idealmente, todas las barras estarían por encima de 0.7 para ambos grupos.\n",
    "\n"
   ]
  },
  {
   "cell_type": "markdown",
   "id": "b1f26448-797b-4dd1-8525-4241a799eb7a",
   "metadata": {},
   "source": [
    "## ✅ Conclusión general del análisis visual\n",
    "\n",
    "Tras entrenar el modelo KNN y analizar sus resultados tanto numéricos como visuales, podemos concluir lo siguiente:\n",
    "\n",
    "- La **exactitud global** del modelo es aceptable (≈ 69%), pero esto **esconde un problema importante**:  \n",
    "  el modelo **funciona bien para la clase mayoritaria** (baja conectividad), pero **tiene bajo rendimiento para detectar a personas con alta conectividad**.\n",
    "\n",
    "- La **matriz de confusión** muestra un fuerte desequilibrio: muchos verdaderos negativos (bien clasificados como baja conectividad) y pocos verdaderos positivos.\n",
    "\n",
    "- La **curva ROC** y su AUC reflejan que el modelo tiene una capacidad limitada de distinguir entre ambas clases. Si el AUC está cercano a 0.5, el modelo no está aprendiendo patrones claros.\n",
    "\n",
    "- El **gráfico de barras** revela que las métricas de `precision`, `recall` y `f1-score` para la clase minoritaria (alta conectividad) son muy bajas, lo que confirma el sesgo del modelo.\n",
    "\n",
    "---\n",
    "\n",
    "### 🛠️ Recomendaciones\n",
    "\n",
    "- Es importante **no confiar únicamente en la exactitud general**, sino observar el comportamiento por clase usando varias métricas.\n",
    "\n",
    "- Se deben aplicar estrategias como:\n",
    "  - **Rebalanceo de clases** (SMOTE, undersampling, etc.).\n",
    "  - **Mejor selección o creación de variables predictoras.**\n",
    "  - **Prueba con otros algoritmos** más robustos frente a desbalance (Random Forest, XGBoost, etc.).\n",
    "\n",
    "---\n",
    "\n",
    "El modelo actual es un buen punto de partida, pero **requiere ajustes para ser útil en la práctica** y para apoyar decisiones basadas en la detección de alta conectividad en poblaciones vulnerables.\n"
   ]
  }
 ],
 "metadata": {
  "kernelspec": {
   "display_name": "Python 3 (ipykernel)",
   "language": "python",
   "name": "python3"
  },
  "language_info": {
   "codemirror_mode": {
    "name": "ipython",
    "version": 3
   },
   "file_extension": ".py",
   "mimetype": "text/x-python",
   "name": "python",
   "nbconvert_exporter": "python",
   "pygments_lexer": "ipython3",
   "version": "3.13.2"
  }
 },
 "nbformat": 4,
 "nbformat_minor": 5
}
